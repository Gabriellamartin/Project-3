{
 "cells": [
  {
   "cell_type": "code",
   "execution_count": 1,
   "metadata": {},
   "outputs": [
    {
     "data": {
      "text/plain": [
       "{'encoding': 'ascii', 'confidence': 1.0, 'language': ''}"
      ]
     },
     "execution_count": 1,
     "metadata": {},
     "output_type": "execute_result"
    }
   ],
   "source": [
    "%matplotlib inline\n",
    "import pandas as pd\n",
    "import numpy as p\n",
    "import matplotlib.pyplot as plt\n",
    "import seaborn as sns\n",
    "\n",
    "# imports from sklearn\n",
    "from sklearn import preprocessing\n",
    "from sklearn.linear_model import LinearRegression\n",
    "from sklearn import linear_model\n",
    "from sklearn.neighbors import KNeighborsClassifier\n",
    "\n",
    "import chardet\n",
    "data = r\"StateOfIllinoisMBE_2016_2021_data.csv\"\n",
    "\n",
    "with open(data, 'rb') as rawdata:\n",
    "    result = chardet.detect(rawdata.read(100000))\n",
    "result"
   ]
  },
  {
   "cell_type": "code",
   "execution_count": 2,
   "metadata": {},
   "outputs": [
    {
     "data": {
      "text/html": [
       "<div>\n",
       "<style scoped>\n",
       "    .dataframe tbody tr th:only-of-type {\n",
       "        vertical-align: middle;\n",
       "    }\n",
       "\n",
       "    .dataframe tbody tr th {\n",
       "        vertical-align: top;\n",
       "    }\n",
       "\n",
       "    .dataframe thead th {\n",
       "        text-align: right;\n",
       "    }\n",
       "</style>\n",
       "<table border=\"1\" class=\"dataframe\">\n",
       "  <thead>\n",
       "    <tr style=\"text-align: right;\">\n",
       "      <th></th>\n",
       "      <th>Business Name</th>\n",
       "      <th>Phone</th>\n",
       "      <th>Fax</th>\n",
       "      <th>Email</th>\n",
       "      <th>Address 1</th>\n",
       "      <th>Address 2</th>\n",
       "      <th>Address 3</th>\n",
       "      <th>City</th>\n",
       "      <th>State/Province</th>\n",
       "      <th>Zip Code/Postcode</th>\n",
       "      <th>...</th>\n",
       "      <th>Commodity/Work Codes</th>\n",
       "      <th>Commodity Codes/Work Codes with Descriptions</th>\n",
       "      <th>Primary Commodity/Work Codes</th>\n",
       "      <th>Primary Commodity/Work Codes with Descriptions</th>\n",
       "      <th>Other Commodity/Work Codes</th>\n",
       "      <th>Other Commodity/Work Codes with Descriptions</th>\n",
       "      <th>Certification Officer/Analyst</th>\n",
       "      <th>Region</th>\n",
       "      <th>Reciprocal Certification Agency</th>\n",
       "      <th>System Certification ID</th>\n",
       "    </tr>\n",
       "  </thead>\n",
       "  <tbody>\n",
       "    <tr>\n",
       "      <th>0</th>\n",
       "      <td>#9 Design, LLC</td>\n",
       "      <td>630-279-9990</td>\n",
       "      <td>630-279-9991</td>\n",
       "      <td>dulcinea@number-nine.com</td>\n",
       "      <td>28 East Saint Charles Road</td>\n",
       "      <td>NaN</td>\n",
       "      <td>NaN</td>\n",
       "      <td>Villa Park</td>\n",
       "      <td>IL</td>\n",
       "      <td>\\t60181</td>\n",
       "      <td>...</td>\n",
       "      <td>90600</td>\n",
       "      <td>90600 - ARCHITECTURAL SERVICES, PROFESSIONAL</td>\n",
       "      <td>NaN</td>\n",
       "      <td>NaN</td>\n",
       "      <td>90600</td>\n",
       "      <td>90600 - ARCHITECTURAL SERVICES, PROFESSIONAL</td>\n",
       "      <td>Claudia Gomez</td>\n",
       "      <td>Metro Chicago</td>\n",
       "      <td>WBDC</td>\n",
       "      <td>2617179</td>\n",
       "    </tr>\n",
       "    <tr>\n",
       "      <th>1</th>\n",
       "      <td>#9 Design, LLC</td>\n",
       "      <td>630-279-9990</td>\n",
       "      <td>630-279-9991</td>\n",
       "      <td>dulcinea@number-nine.com</td>\n",
       "      <td>28 East Saint Charles Road</td>\n",
       "      <td>NaN</td>\n",
       "      <td>NaN</td>\n",
       "      <td>Villa Park</td>\n",
       "      <td>IL</td>\n",
       "      <td>\\t60181</td>\n",
       "      <td>...</td>\n",
       "      <td>90600</td>\n",
       "      <td>90600 - ARCHITECTURAL SERVICES, PROFESSIONAL</td>\n",
       "      <td>NaN</td>\n",
       "      <td>NaN</td>\n",
       "      <td>90600</td>\n",
       "      <td>90600 - ARCHITECTURAL SERVICES, PROFESSIONAL</td>\n",
       "      <td>Diane Colletti</td>\n",
       "      <td>Metro Chicago</td>\n",
       "      <td>WBDC</td>\n",
       "      <td>1908877</td>\n",
       "    </tr>\n",
       "    <tr>\n",
       "      <th>2</th>\n",
       "      <td>#9 Design, LLC</td>\n",
       "      <td>630-279-9990</td>\n",
       "      <td>630-279-9991</td>\n",
       "      <td>dulcinea@number-nine.com</td>\n",
       "      <td>135 South Palmer Drive</td>\n",
       "      <td>Suite 200</td>\n",
       "      <td>NaN</td>\n",
       "      <td>Elmhurst</td>\n",
       "      <td>IL</td>\n",
       "      <td>\\t60126</td>\n",
       "      <td>...</td>\n",
       "      <td>90607, 90738</td>\n",
       "      <td>90607 - Architect Services, Professional, (Not...</td>\n",
       "      <td>NaN</td>\n",
       "      <td>NaN</td>\n",
       "      <td>90607, 90738</td>\n",
       "      <td>90607 - Architect Services, Professional, (Not...</td>\n",
       "      <td>Vinram WadeBey</td>\n",
       "      <td>Metro Chicago</td>\n",
       "      <td>WBDC</td>\n",
       "      <td>781323</td>\n",
       "    </tr>\n",
       "    <tr>\n",
       "      <th>3</th>\n",
       "      <td>#9 Design, LLC</td>\n",
       "      <td>630-279-9990</td>\n",
       "      <td>630-279-9991</td>\n",
       "      <td>dulcinea@number-nine.com</td>\n",
       "      <td>28 East Saint Charles Road</td>\n",
       "      <td>NaN</td>\n",
       "      <td>NaN</td>\n",
       "      <td>Villa Park</td>\n",
       "      <td>IL</td>\n",
       "      <td>\\t60181</td>\n",
       "      <td>...</td>\n",
       "      <td>90600</td>\n",
       "      <td>90600 - ARCHITECTURAL SERVICES, PROFESSIONAL</td>\n",
       "      <td>NaN</td>\n",
       "      <td>NaN</td>\n",
       "      <td>90600</td>\n",
       "      <td>90600 - ARCHITECTURAL SERVICES, PROFESSIONAL</td>\n",
       "      <td>Tamara Bell</td>\n",
       "      <td>Metro Chicago</td>\n",
       "      <td>WBDC</td>\n",
       "      <td>956123</td>\n",
       "    </tr>\n",
       "    <tr>\n",
       "      <th>4</th>\n",
       "      <td>#9 Design, LLC</td>\n",
       "      <td>630-279-9990</td>\n",
       "      <td>630-279-9991</td>\n",
       "      <td>dulcinea@number-nine.com</td>\n",
       "      <td>28 East Saint Charles Road</td>\n",
       "      <td>NaN</td>\n",
       "      <td>NaN</td>\n",
       "      <td>Villa Park</td>\n",
       "      <td>IL</td>\n",
       "      <td>\\t60181</td>\n",
       "      <td>...</td>\n",
       "      <td>90600</td>\n",
       "      <td>90600 - ARCHITECTURAL SERVICES, PROFESSIONAL</td>\n",
       "      <td>NaN</td>\n",
       "      <td>NaN</td>\n",
       "      <td>90600</td>\n",
       "      <td>90600 - ARCHITECTURAL SERVICES, PROFESSIONAL</td>\n",
       "      <td>Tamara Bell</td>\n",
       "      <td>Metro Chicago</td>\n",
       "      <td>WBDC</td>\n",
       "      <td>1121074</td>\n",
       "    </tr>\n",
       "  </tbody>\n",
       "</table>\n",
       "<p>5 rows × 35 columns</p>\n",
       "</div>"
      ],
      "text/plain": [
       "    Business Name         Phone           Fax                     Email  \\\n",
       "0  #9 Design, LLC  630-279-9990  630-279-9991  dulcinea@number-nine.com   \n",
       "1  #9 Design, LLC  630-279-9990  630-279-9991  dulcinea@number-nine.com   \n",
       "2  #9 Design, LLC  630-279-9990  630-279-9991  dulcinea@number-nine.com   \n",
       "3  #9 Design, LLC  630-279-9990  630-279-9991  dulcinea@number-nine.com   \n",
       "4  #9 Design, LLC  630-279-9990  630-279-9991  dulcinea@number-nine.com   \n",
       "\n",
       "                    Address 1  Address 2 Address 3        City State/Province  \\\n",
       "0  28 East Saint Charles Road        NaN       NaN  Villa Park             IL   \n",
       "1  28 East Saint Charles Road        NaN       NaN  Villa Park             IL   \n",
       "2      135 South Palmer Drive  Suite 200       NaN    Elmhurst             IL   \n",
       "3  28 East Saint Charles Road        NaN       NaN  Villa Park             IL   \n",
       "4  28 East Saint Charles Road        NaN       NaN  Villa Park             IL   \n",
       "\n",
       "  Zip Code/Postcode  ... Commodity/Work Codes  \\\n",
       "0           \\t60181  ...                90600   \n",
       "1           \\t60181  ...                90600   \n",
       "2           \\t60126  ...         90607, 90738   \n",
       "3           \\t60181  ...                90600   \n",
       "4           \\t60181  ...                90600   \n",
       "\n",
       "        Commodity Codes/Work Codes with Descriptions  \\\n",
       "0       90600 - ARCHITECTURAL SERVICES, PROFESSIONAL   \n",
       "1       90600 - ARCHITECTURAL SERVICES, PROFESSIONAL   \n",
       "2  90607 - Architect Services, Professional, (Not...   \n",
       "3       90600 - ARCHITECTURAL SERVICES, PROFESSIONAL   \n",
       "4       90600 - ARCHITECTURAL SERVICES, PROFESSIONAL   \n",
       "\n",
       "   Primary Commodity/Work Codes  \\\n",
       "0                           NaN   \n",
       "1                           NaN   \n",
       "2                           NaN   \n",
       "3                           NaN   \n",
       "4                           NaN   \n",
       "\n",
       "   Primary Commodity/Work Codes with Descriptions Other Commodity/Work Codes  \\\n",
       "0                                             NaN                      90600   \n",
       "1                                             NaN                      90600   \n",
       "2                                             NaN               90607, 90738   \n",
       "3                                             NaN                      90600   \n",
       "4                                             NaN                      90600   \n",
       "\n",
       "        Other Commodity/Work Codes with Descriptions  \\\n",
       "0       90600 - ARCHITECTURAL SERVICES, PROFESSIONAL   \n",
       "1       90600 - ARCHITECTURAL SERVICES, PROFESSIONAL   \n",
       "2  90607 - Architect Services, Professional, (Not...   \n",
       "3       90600 - ARCHITECTURAL SERVICES, PROFESSIONAL   \n",
       "4       90600 - ARCHITECTURAL SERVICES, PROFESSIONAL   \n",
       "\n",
       "  Certification Officer/Analyst         Region  \\\n",
       "0                 Claudia Gomez  Metro Chicago   \n",
       "1                Diane Colletti  Metro Chicago   \n",
       "2                Vinram WadeBey  Metro Chicago   \n",
       "3                   Tamara Bell  Metro Chicago   \n",
       "4                   Tamara Bell  Metro Chicago   \n",
       "\n",
       "  Reciprocal Certification Agency System Certification ID  \n",
       "0                            WBDC                 2617179  \n",
       "1                            WBDC                 1908877  \n",
       "2                            WBDC                  781323  \n",
       "3                            WBDC                  956123  \n",
       "4                            WBDC                 1121074  \n",
       "\n",
       "[5 rows x 35 columns]"
      ]
     },
     "execution_count": 2,
     "metadata": {},
     "output_type": "execute_result"
    }
   ],
   "source": [
    "# Read our CityofChicago data into pandas\n",
    "data = r\"C:\\Users\\Gisela Gutierrez\\Project-3-MBE\\StateOfIllinoisMBE_2016_2021_data.csv\"\n",
    "\n",
    "State_df = pd.read_csv(data, encoding = 'Windows-1252')\n",
    "State_df.head()"
   ]
  },
  {
   "cell_type": "markdown",
   "metadata": {},
   "source": [
    "##  Data clean-up "
   ]
  },
  {
   "cell_type": "code",
   "execution_count": 3,
   "metadata": {},
   "outputs": [
    {
     "name": "stdout",
     "output_type": "stream",
     "text": [
      "csv created\n"
     ]
    }
   ],
   "source": [
    "#Dropping the redundant features\n",
    "State_df2 = State_df.drop(['Phone', 'Fax','Email','Address 1',\n",
    "                           'Address 2','Address 3','Commodity/Work Codes',\n",
    "                           'Primary Commodity/Work Codes','Website',\n",
    "                           'Unique Entity Identifier','Commodity/Work Codes',\n",
    "                           'Primary Commodity/Work Codes','Primary Commodity/Work Codes with Descriptions',\n",
    "                           'Other Commodity/Work Codes','Certification Officer/Analyst',\n",
    "                           'B2Gnow Vendor Number', 'System Certification ID'], axis = 1)\n",
    "\n",
    "# writing  the dataframe to another csv file \n",
    "State_df2.to_csv('StateOfIllinoisCleanData.csv', index = False)\n",
    "\n",
    "print(\"csv created\")"
   ]
  },
  {
   "cell_type": "code",
   "execution_count": 4,
   "metadata": {},
   "outputs": [
    {
     "data": {
      "text/html": [
       "<div>\n",
       "<style scoped>\n",
       "    .dataframe tbody tr th:only-of-type {\n",
       "        vertical-align: middle;\n",
       "    }\n",
       "\n",
       "    .dataframe tbody tr th {\n",
       "        vertical-align: top;\n",
       "    }\n",
       "\n",
       "    .dataframe thead th {\n",
       "        text-align: right;\n",
       "    }\n",
       "</style>\n",
       "<table border=\"1\" class=\"dataframe\">\n",
       "  <thead>\n",
       "    <tr style=\"text-align: right;\">\n",
       "      <th></th>\n",
       "      <th>Business Name</th>\n",
       "      <th>City</th>\n",
       "      <th>State/Province</th>\n",
       "      <th>Zip Code/Postcode</th>\n",
       "      <th>Business Description</th>\n",
       "      <th>County</th>\n",
       "      <th>Certifying Agency</th>\n",
       "      <th>Certifying Agency (Short Version)</th>\n",
       "      <th>Certification Type</th>\n",
       "      <th>Certification Action</th>\n",
       "      <th>Certification Status</th>\n",
       "      <th>Certification Date</th>\n",
       "      <th>Renewal Date</th>\n",
       "      <th>Expiration Date</th>\n",
       "      <th>Ethnicity</th>\n",
       "      <th>Gender</th>\n",
       "      <th>Commodity Codes/Work Codes with Descriptions</th>\n",
       "      <th>Other Commodity/Work Codes with Descriptions</th>\n",
       "      <th>Region</th>\n",
       "      <th>Reciprocal Certification Agency</th>\n",
       "    </tr>\n",
       "  </thead>\n",
       "  <tbody>\n",
       "    <tr>\n",
       "      <th>0</th>\n",
       "      <td>#9 Design, LLC</td>\n",
       "      <td>Villa Park</td>\n",
       "      <td>IL</td>\n",
       "      <td>\\t60181</td>\n",
       "      <td>90607 Architect Services, Professional, (Not O...</td>\n",
       "      <td>DuPage</td>\n",
       "      <td>State of Illinois Central Management Services</td>\n",
       "      <td>CMS</td>\n",
       "      <td>WBE</td>\n",
       "      <td>Reciprocal</td>\n",
       "      <td>Active</td>\n",
       "      <td>12/21/2020</td>\n",
       "      <td>12/21/2021</td>\n",
       "      <td>12/21/2021</td>\n",
       "      <td>Caucasian</td>\n",
       "      <td>Female</td>\n",
       "      <td>90600 - ARCHITECTURAL SERVICES, PROFESSIONAL</td>\n",
       "      <td>90600 - ARCHITECTURAL SERVICES, PROFESSIONAL</td>\n",
       "      <td>Metro Chicago</td>\n",
       "      <td>WBDC</td>\n",
       "    </tr>\n",
       "    <tr>\n",
       "      <th>1</th>\n",
       "      <td>#9 Design, LLC</td>\n",
       "      <td>Villa Park</td>\n",
       "      <td>IL</td>\n",
       "      <td>\\t60181</td>\n",
       "      <td>90607 Architect Services, Professional, (Not O...</td>\n",
       "      <td>DuPage</td>\n",
       "      <td>State of Illinois Central Management Services</td>\n",
       "      <td>CMS</td>\n",
       "      <td>WBE</td>\n",
       "      <td>Reciprocal</td>\n",
       "      <td>Past/Inactive</td>\n",
       "      <td>12/11/2018</td>\n",
       "      <td>12/11/2019</td>\n",
       "      <td>12/11/2019</td>\n",
       "      <td>Caucasian</td>\n",
       "      <td>Female</td>\n",
       "      <td>90600 - ARCHITECTURAL SERVICES, PROFESSIONAL</td>\n",
       "      <td>90600 - ARCHITECTURAL SERVICES, PROFESSIONAL</td>\n",
       "      <td>Metro Chicago</td>\n",
       "      <td>WBDC</td>\n",
       "    </tr>\n",
       "    <tr>\n",
       "      <th>2</th>\n",
       "      <td>#9 Design, LLC</td>\n",
       "      <td>Elmhurst</td>\n",
       "      <td>IL</td>\n",
       "      <td>\\t60126</td>\n",
       "      <td>90607 Architect Services, Professional, (Not O...</td>\n",
       "      <td>DuPage</td>\n",
       "      <td>State of Illinois Central Management Services</td>\n",
       "      <td>CMS</td>\n",
       "      <td>WBE</td>\n",
       "      <td>Reciprocal</td>\n",
       "      <td>Deactivated</td>\n",
       "      <td>5/23/2016</td>\n",
       "      <td>5/23/2017</td>\n",
       "      <td>5/23/2017</td>\n",
       "      <td>Caucasian</td>\n",
       "      <td>Female</td>\n",
       "      <td>90607 - Architect Services, Professional, (Not...</td>\n",
       "      <td>90607 - Architect Services, Professional, (Not...</td>\n",
       "      <td>Metro Chicago</td>\n",
       "      <td>WBDC</td>\n",
       "    </tr>\n",
       "    <tr>\n",
       "      <th>3</th>\n",
       "      <td>#9 Design, LLC</td>\n",
       "      <td>Villa Park</td>\n",
       "      <td>IL</td>\n",
       "      <td>\\t60181</td>\n",
       "      <td>90607 Architect Services, Professional, (Not O...</td>\n",
       "      <td>DuPage</td>\n",
       "      <td>State of Illinois Central Management Services</td>\n",
       "      <td>CMS</td>\n",
       "      <td>WBE</td>\n",
       "      <td>Reciprocal</td>\n",
       "      <td>Deactivated</td>\n",
       "      <td>3/10/2017</td>\n",
       "      <td>3/10/2018</td>\n",
       "      <td>3/10/2018</td>\n",
       "      <td>Caucasian</td>\n",
       "      <td>Female</td>\n",
       "      <td>90600 - ARCHITECTURAL SERVICES, PROFESSIONAL</td>\n",
       "      <td>90600 - ARCHITECTURAL SERVICES, PROFESSIONAL</td>\n",
       "      <td>Metro Chicago</td>\n",
       "      <td>WBDC</td>\n",
       "    </tr>\n",
       "    <tr>\n",
       "      <th>4</th>\n",
       "      <td>#9 Design, LLC</td>\n",
       "      <td>Villa Park</td>\n",
       "      <td>IL</td>\n",
       "      <td>\\t60181</td>\n",
       "      <td>90607 Architect Services, Professional, (Not O...</td>\n",
       "      <td>DuPage</td>\n",
       "      <td>State of Illinois Central Management Services</td>\n",
       "      <td>CMS</td>\n",
       "      <td>WBE</td>\n",
       "      <td>Reciprocal</td>\n",
       "      <td>Deactivated</td>\n",
       "      <td>2/27/2018</td>\n",
       "      <td>2/27/2019</td>\n",
       "      <td>2/27/2019</td>\n",
       "      <td>Caucasian</td>\n",
       "      <td>Female</td>\n",
       "      <td>90600 - ARCHITECTURAL SERVICES, PROFESSIONAL</td>\n",
       "      <td>90600 - ARCHITECTURAL SERVICES, PROFESSIONAL</td>\n",
       "      <td>Metro Chicago</td>\n",
       "      <td>WBDC</td>\n",
       "    </tr>\n",
       "  </tbody>\n",
       "</table>\n",
       "</div>"
      ],
      "text/plain": [
       "    Business Name        City State/Province Zip Code/Postcode  \\\n",
       "0  #9 Design, LLC  Villa Park             IL           \\t60181   \n",
       "1  #9 Design, LLC  Villa Park             IL           \\t60181   \n",
       "2  #9 Design, LLC    Elmhurst             IL           \\t60126   \n",
       "3  #9 Design, LLC  Villa Park             IL           \\t60181   \n",
       "4  #9 Design, LLC  Villa Park             IL           \\t60181   \n",
       "\n",
       "                                Business Description  County  \\\n",
       "0  90607 Architect Services, Professional, (Not O...  DuPage   \n",
       "1  90607 Architect Services, Professional, (Not O...  DuPage   \n",
       "2  90607 Architect Services, Professional, (Not O...  DuPage   \n",
       "3  90607 Architect Services, Professional, (Not O...  DuPage   \n",
       "4  90607 Architect Services, Professional, (Not O...  DuPage   \n",
       "\n",
       "                               Certifying Agency  \\\n",
       "0  State of Illinois Central Management Services   \n",
       "1  State of Illinois Central Management Services   \n",
       "2  State of Illinois Central Management Services   \n",
       "3  State of Illinois Central Management Services   \n",
       "4  State of Illinois Central Management Services   \n",
       "\n",
       "  Certifying Agency (Short Version) Certification Type Certification Action  \\\n",
       "0                               CMS                WBE           Reciprocal   \n",
       "1                               CMS                WBE           Reciprocal   \n",
       "2                               CMS                WBE           Reciprocal   \n",
       "3                               CMS                WBE           Reciprocal   \n",
       "4                               CMS                WBE           Reciprocal   \n",
       "\n",
       "  Certification Status Certification Date Renewal Date Expiration Date  \\\n",
       "0               Active         12/21/2020   12/21/2021      12/21/2021   \n",
       "1        Past/Inactive         12/11/2018   12/11/2019      12/11/2019   \n",
       "2          Deactivated          5/23/2016    5/23/2017       5/23/2017   \n",
       "3          Deactivated          3/10/2017    3/10/2018       3/10/2018   \n",
       "4          Deactivated          2/27/2018    2/27/2019       2/27/2019   \n",
       "\n",
       "   Ethnicity  Gender       Commodity Codes/Work Codes with Descriptions  \\\n",
       "0  Caucasian  Female       90600 - ARCHITECTURAL SERVICES, PROFESSIONAL   \n",
       "1  Caucasian  Female       90600 - ARCHITECTURAL SERVICES, PROFESSIONAL   \n",
       "2  Caucasian  Female  90607 - Architect Services, Professional, (Not...   \n",
       "3  Caucasian  Female       90600 - ARCHITECTURAL SERVICES, PROFESSIONAL   \n",
       "4  Caucasian  Female       90600 - ARCHITECTURAL SERVICES, PROFESSIONAL   \n",
       "\n",
       "        Other Commodity/Work Codes with Descriptions         Region  \\\n",
       "0       90600 - ARCHITECTURAL SERVICES, PROFESSIONAL  Metro Chicago   \n",
       "1       90600 - ARCHITECTURAL SERVICES, PROFESSIONAL  Metro Chicago   \n",
       "2  90607 - Architect Services, Professional, (Not...  Metro Chicago   \n",
       "3       90600 - ARCHITECTURAL SERVICES, PROFESSIONAL  Metro Chicago   \n",
       "4       90600 - ARCHITECTURAL SERVICES, PROFESSIONAL  Metro Chicago   \n",
       "\n",
       "  Reciprocal Certification Agency  \n",
       "0                            WBDC  \n",
       "1                            WBDC  \n",
       "2                            WBDC  \n",
       "3                            WBDC  \n",
       "4                            WBDC  "
      ]
     },
     "execution_count": 4,
     "metadata": {},
     "output_type": "execute_result"
    }
   ],
   "source": [
    "State_df2.head()"
   ]
  },
  {
   "cell_type": "code",
   "execution_count": 5,
   "metadata": {},
   "outputs": [
    {
     "name": "stdout",
     "output_type": "stream",
     "text": [
      "csv created\n"
     ]
    }
   ],
   "source": [
    "#Rename Columns\n",
    "State_df2.rename(columns={\"Business Name\":\"Business_Name\",\"Zip Code/Postcode\":\"Zip_Code/Postcode\",\n",
    "                          \"Business Description\":\"Business_Description\",\"Certifying Agency\":\"Certifying_Agency\",\n",
    "                          \"Certifying Agency (Short Version)\":\"Certifying_Agency_(Short Version)\",\n",
    "                          \"Certification Type\":\"Certification_Type\",\"Certification Action\":\"Certification_Action\",\n",
    "                          \"Certification Status\":\"Certification_Status\",\"Certification Date\":\"Certification_Date\",\n",
    "                          \"Renewal Date\":\"Renewal_Date\",\"Expiration Date\":\"Expiration_Date\",\n",
    "                          \"Commodity Codes/Work Codes with Descriptions\":\"Commodity_Codes/Work_Codes_with_Descriptions\",\n",
    "                          \"Other Commodity/Work Codes with Descriptions\":\"Other_Commodity/Work_Codes_with_Descriptions\",\n",
    "                          \"Reciprocal Certification Agency\":\"Reciprocal_Certification_Agency\"},inplace=True)\n",
    "\n",
    "\n",
    "\n",
    "# writing  the dataframe to another csv file \n",
    "State_df2.to_csv('StateOfIllinoisCleanData2.csv', index = False)\n",
    "\n",
    "print(\"csv created\")"
   ]
  },
  {
   "cell_type": "code",
   "execution_count": 6,
   "metadata": {},
   "outputs": [
    {
     "data": {
      "text/html": [
       "<div>\n",
       "<style scoped>\n",
       "    .dataframe tbody tr th:only-of-type {\n",
       "        vertical-align: middle;\n",
       "    }\n",
       "\n",
       "    .dataframe tbody tr th {\n",
       "        vertical-align: top;\n",
       "    }\n",
       "\n",
       "    .dataframe thead th {\n",
       "        text-align: right;\n",
       "    }\n",
       "</style>\n",
       "<table border=\"1\" class=\"dataframe\">\n",
       "  <thead>\n",
       "    <tr style=\"text-align: right;\">\n",
       "      <th></th>\n",
       "      <th>Business_Name</th>\n",
       "      <th>City</th>\n",
       "      <th>State/Province</th>\n",
       "      <th>Zip_Code/Postcode</th>\n",
       "      <th>Business_Description</th>\n",
       "      <th>County</th>\n",
       "      <th>Certifying_Agency</th>\n",
       "      <th>Certifying_Agency_(Short Version)</th>\n",
       "      <th>Certification_Type</th>\n",
       "      <th>Certification_Action</th>\n",
       "      <th>Certification_Status</th>\n",
       "      <th>Certification_Date</th>\n",
       "      <th>Renewal_Date</th>\n",
       "      <th>Expiration_Date</th>\n",
       "      <th>Ethnicity</th>\n",
       "      <th>Gender</th>\n",
       "      <th>Commodity_Codes/Work_Codes_with_Descriptions</th>\n",
       "      <th>Other_Commodity/Work_Codes_with_Descriptions</th>\n",
       "      <th>Region</th>\n",
       "      <th>Reciprocal_Certification_Agency</th>\n",
       "    </tr>\n",
       "  </thead>\n",
       "  <tbody>\n",
       "    <tr>\n",
       "      <th>0</th>\n",
       "      <td>#9 Design, LLC</td>\n",
       "      <td>Villa Park</td>\n",
       "      <td>IL</td>\n",
       "      <td>\\t60181</td>\n",
       "      <td>90607 Architect Services, Professional, (Not O...</td>\n",
       "      <td>DuPage</td>\n",
       "      <td>State of Illinois Central Management Services</td>\n",
       "      <td>CMS</td>\n",
       "      <td>WBE</td>\n",
       "      <td>Reciprocal</td>\n",
       "      <td>Active</td>\n",
       "      <td>12/21/2020</td>\n",
       "      <td>12/21/2021</td>\n",
       "      <td>12/21/2021</td>\n",
       "      <td>Caucasian</td>\n",
       "      <td>Female</td>\n",
       "      <td>90600 - ARCHITECTURAL SERVICES, PROFESSIONAL</td>\n",
       "      <td>90600 - ARCHITECTURAL SERVICES, PROFESSIONAL</td>\n",
       "      <td>Metro Chicago</td>\n",
       "      <td>WBDC</td>\n",
       "    </tr>\n",
       "    <tr>\n",
       "      <th>1</th>\n",
       "      <td>#9 Design, LLC</td>\n",
       "      <td>Villa Park</td>\n",
       "      <td>IL</td>\n",
       "      <td>\\t60181</td>\n",
       "      <td>90607 Architect Services, Professional, (Not O...</td>\n",
       "      <td>DuPage</td>\n",
       "      <td>State of Illinois Central Management Services</td>\n",
       "      <td>CMS</td>\n",
       "      <td>WBE</td>\n",
       "      <td>Reciprocal</td>\n",
       "      <td>Past/Inactive</td>\n",
       "      <td>12/11/2018</td>\n",
       "      <td>12/11/2019</td>\n",
       "      <td>12/11/2019</td>\n",
       "      <td>Caucasian</td>\n",
       "      <td>Female</td>\n",
       "      <td>90600 - ARCHITECTURAL SERVICES, PROFESSIONAL</td>\n",
       "      <td>90600 - ARCHITECTURAL SERVICES, PROFESSIONAL</td>\n",
       "      <td>Metro Chicago</td>\n",
       "      <td>WBDC</td>\n",
       "    </tr>\n",
       "    <tr>\n",
       "      <th>2</th>\n",
       "      <td>#9 Design, LLC</td>\n",
       "      <td>Elmhurst</td>\n",
       "      <td>IL</td>\n",
       "      <td>\\t60126</td>\n",
       "      <td>90607 Architect Services, Professional, (Not O...</td>\n",
       "      <td>DuPage</td>\n",
       "      <td>State of Illinois Central Management Services</td>\n",
       "      <td>CMS</td>\n",
       "      <td>WBE</td>\n",
       "      <td>Reciprocal</td>\n",
       "      <td>Deactivated</td>\n",
       "      <td>5/23/2016</td>\n",
       "      <td>5/23/2017</td>\n",
       "      <td>5/23/2017</td>\n",
       "      <td>Caucasian</td>\n",
       "      <td>Female</td>\n",
       "      <td>90607 - Architect Services, Professional, (Not...</td>\n",
       "      <td>90607 - Architect Services, Professional, (Not...</td>\n",
       "      <td>Metro Chicago</td>\n",
       "      <td>WBDC</td>\n",
       "    </tr>\n",
       "    <tr>\n",
       "      <th>3</th>\n",
       "      <td>#9 Design, LLC</td>\n",
       "      <td>Villa Park</td>\n",
       "      <td>IL</td>\n",
       "      <td>\\t60181</td>\n",
       "      <td>90607 Architect Services, Professional, (Not O...</td>\n",
       "      <td>DuPage</td>\n",
       "      <td>State of Illinois Central Management Services</td>\n",
       "      <td>CMS</td>\n",
       "      <td>WBE</td>\n",
       "      <td>Reciprocal</td>\n",
       "      <td>Deactivated</td>\n",
       "      <td>3/10/2017</td>\n",
       "      <td>3/10/2018</td>\n",
       "      <td>3/10/2018</td>\n",
       "      <td>Caucasian</td>\n",
       "      <td>Female</td>\n",
       "      <td>90600 - ARCHITECTURAL SERVICES, PROFESSIONAL</td>\n",
       "      <td>90600 - ARCHITECTURAL SERVICES, PROFESSIONAL</td>\n",
       "      <td>Metro Chicago</td>\n",
       "      <td>WBDC</td>\n",
       "    </tr>\n",
       "    <tr>\n",
       "      <th>4</th>\n",
       "      <td>#9 Design, LLC</td>\n",
       "      <td>Villa Park</td>\n",
       "      <td>IL</td>\n",
       "      <td>\\t60181</td>\n",
       "      <td>90607 Architect Services, Professional, (Not O...</td>\n",
       "      <td>DuPage</td>\n",
       "      <td>State of Illinois Central Management Services</td>\n",
       "      <td>CMS</td>\n",
       "      <td>WBE</td>\n",
       "      <td>Reciprocal</td>\n",
       "      <td>Deactivated</td>\n",
       "      <td>2/27/2018</td>\n",
       "      <td>2/27/2019</td>\n",
       "      <td>2/27/2019</td>\n",
       "      <td>Caucasian</td>\n",
       "      <td>Female</td>\n",
       "      <td>90600 - ARCHITECTURAL SERVICES, PROFESSIONAL</td>\n",
       "      <td>90600 - ARCHITECTURAL SERVICES, PROFESSIONAL</td>\n",
       "      <td>Metro Chicago</td>\n",
       "      <td>WBDC</td>\n",
       "    </tr>\n",
       "  </tbody>\n",
       "</table>\n",
       "</div>"
      ],
      "text/plain": [
       "    Business_Name        City State/Province Zip_Code/Postcode  \\\n",
       "0  #9 Design, LLC  Villa Park             IL           \\t60181   \n",
       "1  #9 Design, LLC  Villa Park             IL           \\t60181   \n",
       "2  #9 Design, LLC    Elmhurst             IL           \\t60126   \n",
       "3  #9 Design, LLC  Villa Park             IL           \\t60181   \n",
       "4  #9 Design, LLC  Villa Park             IL           \\t60181   \n",
       "\n",
       "                                Business_Description  County  \\\n",
       "0  90607 Architect Services, Professional, (Not O...  DuPage   \n",
       "1  90607 Architect Services, Professional, (Not O...  DuPage   \n",
       "2  90607 Architect Services, Professional, (Not O...  DuPage   \n",
       "3  90607 Architect Services, Professional, (Not O...  DuPage   \n",
       "4  90607 Architect Services, Professional, (Not O...  DuPage   \n",
       "\n",
       "                               Certifying_Agency  \\\n",
       "0  State of Illinois Central Management Services   \n",
       "1  State of Illinois Central Management Services   \n",
       "2  State of Illinois Central Management Services   \n",
       "3  State of Illinois Central Management Services   \n",
       "4  State of Illinois Central Management Services   \n",
       "\n",
       "  Certifying_Agency_(Short Version) Certification_Type Certification_Action  \\\n",
       "0                               CMS                WBE           Reciprocal   \n",
       "1                               CMS                WBE           Reciprocal   \n",
       "2                               CMS                WBE           Reciprocal   \n",
       "3                               CMS                WBE           Reciprocal   \n",
       "4                               CMS                WBE           Reciprocal   \n",
       "\n",
       "  Certification_Status Certification_Date Renewal_Date Expiration_Date  \\\n",
       "0               Active         12/21/2020   12/21/2021      12/21/2021   \n",
       "1        Past/Inactive         12/11/2018   12/11/2019      12/11/2019   \n",
       "2          Deactivated          5/23/2016    5/23/2017       5/23/2017   \n",
       "3          Deactivated          3/10/2017    3/10/2018       3/10/2018   \n",
       "4          Deactivated          2/27/2018    2/27/2019       2/27/2019   \n",
       "\n",
       "   Ethnicity  Gender       Commodity_Codes/Work_Codes_with_Descriptions  \\\n",
       "0  Caucasian  Female       90600 - ARCHITECTURAL SERVICES, PROFESSIONAL   \n",
       "1  Caucasian  Female       90600 - ARCHITECTURAL SERVICES, PROFESSIONAL   \n",
       "2  Caucasian  Female  90607 - Architect Services, Professional, (Not...   \n",
       "3  Caucasian  Female       90600 - ARCHITECTURAL SERVICES, PROFESSIONAL   \n",
       "4  Caucasian  Female       90600 - ARCHITECTURAL SERVICES, PROFESSIONAL   \n",
       "\n",
       "        Other_Commodity/Work_Codes_with_Descriptions         Region  \\\n",
       "0       90600 - ARCHITECTURAL SERVICES, PROFESSIONAL  Metro Chicago   \n",
       "1       90600 - ARCHITECTURAL SERVICES, PROFESSIONAL  Metro Chicago   \n",
       "2  90607 - Architect Services, Professional, (Not...  Metro Chicago   \n",
       "3       90600 - ARCHITECTURAL SERVICES, PROFESSIONAL  Metro Chicago   \n",
       "4       90600 - ARCHITECTURAL SERVICES, PROFESSIONAL  Metro Chicago   \n",
       "\n",
       "  Reciprocal_Certification_Agency  \n",
       "0                            WBDC  \n",
       "1                            WBDC  \n",
       "2                            WBDC  \n",
       "3                            WBDC  \n",
       "4                            WBDC  "
      ]
     },
     "execution_count": 6,
     "metadata": {},
     "output_type": "execute_result"
    }
   ],
   "source": [
    "State_df2.head()"
   ]
  },
  {
   "cell_type": "code",
   "execution_count": 7,
   "metadata": {},
   "outputs": [
    {
     "name": "stdout",
     "output_type": "stream",
     "text": [
      "csv created\n"
     ]
    },
    {
     "data": {
      "text/html": [
       "<div>\n",
       "<style scoped>\n",
       "    .dataframe tbody tr th:only-of-type {\n",
       "        vertical-align: middle;\n",
       "    }\n",
       "\n",
       "    .dataframe tbody tr th {\n",
       "        vertical-align: top;\n",
       "    }\n",
       "\n",
       "    .dataframe thead th {\n",
       "        text-align: right;\n",
       "    }\n",
       "</style>\n",
       "<table border=\"1\" class=\"dataframe\">\n",
       "  <thead>\n",
       "    <tr style=\"text-align: right;\">\n",
       "      <th></th>\n",
       "      <th>Business_Name</th>\n",
       "      <th>City</th>\n",
       "      <th>State/Province</th>\n",
       "      <th>Zip_Code/Postcode</th>\n",
       "      <th>Business_Description</th>\n",
       "      <th>County</th>\n",
       "      <th>Certifying_Agency</th>\n",
       "      <th>Certifying_Agency_(Short Version)</th>\n",
       "      <th>Certification_Type</th>\n",
       "      <th>Certification_Action</th>\n",
       "      <th>Certification_Status</th>\n",
       "      <th>Certification_Date</th>\n",
       "      <th>Renewal_Date</th>\n",
       "      <th>Expiration_Date</th>\n",
       "      <th>Ethnicity</th>\n",
       "      <th>Gender</th>\n",
       "      <th>Commodity_Codes/Work_Codes_with_Descriptions</th>\n",
       "      <th>Other_Commodity/Work_Codes_with_Descriptions</th>\n",
       "      <th>Region</th>\n",
       "      <th>Reciprocal_Certification_Agency</th>\n",
       "    </tr>\n",
       "  </thead>\n",
       "  <tbody>\n",
       "    <tr>\n",
       "      <th>0</th>\n",
       "      <td>#9 Design, LLC</td>\n",
       "      <td>Villa Park</td>\n",
       "      <td>IL</td>\n",
       "      <td>\\t60181</td>\n",
       "      <td>90607 Architect Services, Professional, (Not O...</td>\n",
       "      <td>DuPage</td>\n",
       "      <td>State of Illinois Central Management Services</td>\n",
       "      <td>CMS</td>\n",
       "      <td>WBE</td>\n",
       "      <td>Reciprocal</td>\n",
       "      <td>Active</td>\n",
       "      <td>12/21/2020</td>\n",
       "      <td>12/21/2021</td>\n",
       "      <td>12/21/2021</td>\n",
       "      <td>Caucasian</td>\n",
       "      <td>Female</td>\n",
       "      <td>90600 - ARCHITECTURAL SERVICES, PROFESSIONAL</td>\n",
       "      <td>90600 - ARCHITECTURAL SERVICES, PROFESSIONAL</td>\n",
       "      <td>Metro Chicago</td>\n",
       "      <td>WBDC</td>\n",
       "    </tr>\n",
       "    <tr>\n",
       "      <th>6</th>\n",
       "      <td>*PRADO &amp; RENTERIA CPAS, Prof. Corp.</td>\n",
       "      <td>Chicago</td>\n",
       "      <td>IL</td>\n",
       "      <td>\\t60616</td>\n",
       "      <td>CERTIFIED PUBLIC ACCOUNTANT (CPA) SERVICES</td>\n",
       "      <td>Cook</td>\n",
       "      <td>State of Illinois Central Management Services</td>\n",
       "      <td>CMS</td>\n",
       "      <td>WMBE</td>\n",
       "      <td>No Change Affidavit</td>\n",
       "      <td>Active</td>\n",
       "      <td>9/26/2018</td>\n",
       "      <td>9/26/2021</td>\n",
       "      <td>9/26/2025</td>\n",
       "      <td>Hispanic</td>\n",
       "      <td>Female</td>\n",
       "      <td>91870 - Inventory Consulting; 91875 - Manageme...</td>\n",
       "      <td>91870 - Inventory Consulting; 91875 - Manageme...</td>\n",
       "      <td>Metro Chicago</td>\n",
       "      <td>NaN</td>\n",
       "    </tr>\n",
       "    <tr>\n",
       "      <th>8</th>\n",
       "      <td>.VIZ CONSULTING CORPORATION</td>\n",
       "      <td>CHICAGO</td>\n",
       "      <td>IL</td>\n",
       "      <td>\\t60647</td>\n",
       "      <td>Active NIGP 94600 FINANCIAL SERVICES ;     ; A...</td>\n",
       "      <td>Cook</td>\n",
       "      <td>State of Illinois Central Management Services</td>\n",
       "      <td>CMS</td>\n",
       "      <td>WMBE</td>\n",
       "      <td>No Change Affidavit</td>\n",
       "      <td>Active</td>\n",
       "      <td>4/13/2017</td>\n",
       "      <td>4/13/2021</td>\n",
       "      <td>4/13/2024</td>\n",
       "      <td>Hispanic</td>\n",
       "      <td>Female</td>\n",
       "      <td>94600 - FINANCIAL SERVICES; 95352 - Insurance ...</td>\n",
       "      <td>94600 - FINANCIAL SERVICES; 95352 - Insurance ...</td>\n",
       "      <td>Metro Chicago</td>\n",
       "      <td>NaN</td>\n",
       "    </tr>\n",
       "    <tr>\n",
       "      <th>11</th>\n",
       "      <td>1776 American Valor Medical Supplies Inc.</td>\n",
       "      <td>willlowbrook</td>\n",
       "      <td>IL</td>\n",
       "      <td>\\t60527</td>\n",
       "      <td>46500\\tHOSPITAL AND SURGICAL EQUIPMENT, INSTRU...</td>\n",
       "      <td>Cook</td>\n",
       "      <td>State of Illinois Central Management Services</td>\n",
       "      <td>CMS</td>\n",
       "      <td>VOSB</td>\n",
       "      <td>New</td>\n",
       "      <td>Active</td>\n",
       "      <td>4/17/2020</td>\n",
       "      <td>4/17/2021</td>\n",
       "      <td>4/17/2025</td>\n",
       "      <td>Asian American</td>\n",
       "      <td>Male</td>\n",
       "      <td>46500 - HOSPITAL AND SURGICAL EQUIPMENT, INSTR...</td>\n",
       "      <td>46500 - HOSPITAL AND SURGICAL EQUIPMENT, INSTR...</td>\n",
       "      <td>Metro Chicago</td>\n",
       "      <td>NaN</td>\n",
       "    </tr>\n",
       "    <tr>\n",
       "      <th>13</th>\n",
       "      <td>1st Call Technical Services, Inc</td>\n",
       "      <td>BOLINGBROOK</td>\n",
       "      <td>IL</td>\n",
       "      <td>\\t60440</td>\n",
       "      <td>NIGP\\t92033\\tMapping and Geographical Informat...</td>\n",
       "      <td>Will</td>\n",
       "      <td>State of Illinois Central Management Services</td>\n",
       "      <td>CMS</td>\n",
       "      <td>VOSB</td>\n",
       "      <td>New</td>\n",
       "      <td>Active</td>\n",
       "      <td>4/21/2020</td>\n",
       "      <td>4/21/2021</td>\n",
       "      <td>4/21/2025</td>\n",
       "      <td>Caucasian</td>\n",
       "      <td>Male</td>\n",
       "      <td>92033 - Mapping and Geographical Information S...</td>\n",
       "      <td>92033 - Mapping and Geographical Information S...</td>\n",
       "      <td>Metro Chicago</td>\n",
       "      <td>NaN</td>\n",
       "    </tr>\n",
       "  </tbody>\n",
       "</table>\n",
       "</div>"
      ],
      "text/plain": [
       "                                Business_Name          City State/Province  \\\n",
       "0                              #9 Design, LLC    Villa Park             IL   \n",
       "6         *PRADO & RENTERIA CPAS, Prof. Corp.       Chicago             IL   \n",
       "8                 .VIZ CONSULTING CORPORATION       CHICAGO             IL   \n",
       "11  1776 American Valor Medical Supplies Inc.  willlowbrook             IL   \n",
       "13           1st Call Technical Services, Inc   BOLINGBROOK             IL   \n",
       "\n",
       "   Zip_Code/Postcode                               Business_Description  \\\n",
       "0            \\t60181  90607 Architect Services, Professional, (Not O...   \n",
       "6            \\t60616         CERTIFIED PUBLIC ACCOUNTANT (CPA) SERVICES   \n",
       "8            \\t60647  Active NIGP 94600 FINANCIAL SERVICES ;     ; A...   \n",
       "11           \\t60527  46500\\tHOSPITAL AND SURGICAL EQUIPMENT, INSTRU...   \n",
       "13           \\t60440  NIGP\\t92033\\tMapping and Geographical Informat...   \n",
       "\n",
       "    County                              Certifying_Agency  \\\n",
       "0   DuPage  State of Illinois Central Management Services   \n",
       "6     Cook  State of Illinois Central Management Services   \n",
       "8     Cook  State of Illinois Central Management Services   \n",
       "11    Cook  State of Illinois Central Management Services   \n",
       "13    Will  State of Illinois Central Management Services   \n",
       "\n",
       "   Certifying_Agency_(Short Version) Certification_Type Certification_Action  \\\n",
       "0                                CMS                WBE           Reciprocal   \n",
       "6                                CMS               WMBE  No Change Affidavit   \n",
       "8                                CMS               WMBE  No Change Affidavit   \n",
       "11                               CMS               VOSB                  New   \n",
       "13                               CMS               VOSB                  New   \n",
       "\n",
       "   Certification_Status Certification_Date Renewal_Date Expiration_Date  \\\n",
       "0                Active         12/21/2020   12/21/2021      12/21/2021   \n",
       "6                Active          9/26/2018    9/26/2021       9/26/2025   \n",
       "8                Active          4/13/2017    4/13/2021       4/13/2024   \n",
       "11               Active          4/17/2020    4/17/2021       4/17/2025   \n",
       "13               Active          4/21/2020    4/21/2021       4/21/2025   \n",
       "\n",
       "         Ethnicity  Gender       Commodity_Codes/Work_Codes_with_Descriptions  \\\n",
       "0        Caucasian  Female       90600 - ARCHITECTURAL SERVICES, PROFESSIONAL   \n",
       "6         Hispanic  Female  91870 - Inventory Consulting; 91875 - Manageme...   \n",
       "8         Hispanic  Female  94600 - FINANCIAL SERVICES; 95352 - Insurance ...   \n",
       "11  Asian American    Male  46500 - HOSPITAL AND SURGICAL EQUIPMENT, INSTR...   \n",
       "13       Caucasian    Male  92033 - Mapping and Geographical Information S...   \n",
       "\n",
       "         Other_Commodity/Work_Codes_with_Descriptions         Region  \\\n",
       "0        90600 - ARCHITECTURAL SERVICES, PROFESSIONAL  Metro Chicago   \n",
       "6   91870 - Inventory Consulting; 91875 - Manageme...  Metro Chicago   \n",
       "8   94600 - FINANCIAL SERVICES; 95352 - Insurance ...  Metro Chicago   \n",
       "11  46500 - HOSPITAL AND SURGICAL EQUIPMENT, INSTR...  Metro Chicago   \n",
       "13  92033 - Mapping and Geographical Information S...  Metro Chicago   \n",
       "\n",
       "   Reciprocal_Certification_Agency  \n",
       "0                             WBDC  \n",
       "6                              NaN  \n",
       "8                              NaN  \n",
       "11                             NaN  \n",
       "13                             NaN  "
      ]
     },
     "execution_count": 7,
     "metadata": {},
     "output_type": "execute_result"
    }
   ],
   "source": [
    "# Filter all rows for by Certification_Status and drop App. Closed, Denied, Past/Inactive, pending, Withdrawn  \n",
    "df_filtered = State_df2[(State_df2.Certification_Status != 'App. Closed')\n",
    "                        & (State_df2.Certification_Status != 'Denied')\n",
    "                        & (State_df2.Certification_Status != 'Deactivated') \n",
    "                        & (State_df2.Certification_Status !='Decertified')\n",
    "                        & (State_df2.Certification_Status != 'Past/Inactive') \n",
    "                        & (State_df2.Certification_Status != 'Pending')\n",
    "                        & (State_df2.Certification_Status != 'Withdrawn')]\n",
    "\n",
    "# writing  the dataframe to another csv file \n",
    "df_filtered.to_csv('StateOfIllinoisCleanData3.csv', index = False)\n",
    "\n",
    "print(\"csv created\")\n",
    "\n",
    "df_filtered.head()\n"
   ]
  },
  {
   "cell_type": "code",
   "execution_count": 8,
   "metadata": {},
   "outputs": [
    {
     "name": "stdout",
     "output_type": "stream",
     "text": [
      "<class 'pandas.core.frame.DataFrame'>\n",
      "Int64Index: 3387 entries, 0 to 14450\n",
      "Data columns (total 20 columns):\n",
      " #   Column                                        Non-Null Count  Dtype \n",
      "---  ------                                        --------------  ----- \n",
      " 0   Business_Name                                 3387 non-null   object\n",
      " 1   City                                          3387 non-null   object\n",
      " 2   State/Province                                3387 non-null   object\n",
      " 3   Zip_Code/Postcode                             3387 non-null   object\n",
      " 4   Business_Description                          3386 non-null   object\n",
      " 5   County                                        3296 non-null   object\n",
      " 6   Certifying_Agency                             3387 non-null   object\n",
      " 7   Certifying_Agency_(Short Version)             3387 non-null   object\n",
      " 8   Certification_Type                            3387 non-null   object\n",
      " 9   Certification_Action                          3387 non-null   object\n",
      " 10  Certification_Status                          3387 non-null   object\n",
      " 11  Certification_Date                            3387 non-null   object\n",
      " 12  Renewal_Date                                  3387 non-null   object\n",
      " 13  Expiration_Date                               3387 non-null   object\n",
      " 14  Ethnicity                                     3387 non-null   object\n",
      " 15  Gender                                        3387 non-null   object\n",
      " 16  Commodity_Codes/Work_Codes_with_Descriptions  3386 non-null   object\n",
      " 17  Other_Commodity/Work_Codes_with_Descriptions  3385 non-null   object\n",
      " 18  Region                                        3371 non-null   object\n",
      " 19  Reciprocal_Certification_Agency               1391 non-null   object\n",
      "dtypes: object(20)\n",
      "memory usage: 555.7+ KB\n"
     ]
    }
   ],
   "source": [
    "# Find out the types of all columns in the dataframe \n",
    "df_filtered.info() "
   ]
  },
  {
   "cell_type": "code",
   "execution_count": 9,
   "metadata": {},
   "outputs": [
    {
     "data": {
      "text/plain": [
       "(3387, 20)"
      ]
     },
     "execution_count": 9,
     "metadata": {},
     "output_type": "execute_result"
    }
   ],
   "source": [
    "df_filtered.shape"
   ]
  },
  {
   "cell_type": "code",
   "execution_count": 10,
   "metadata": {},
   "outputs": [
    {
     "data": {
      "text/plain": [
       "Business_Name                                   False\n",
       "City                                            False\n",
       "State/Province                                  False\n",
       "Zip_Code/Postcode                               False\n",
       "Business_Description                             True\n",
       "County                                           True\n",
       "Certifying_Agency                               False\n",
       "Certifying_Agency_(Short Version)               False\n",
       "Certification_Type                              False\n",
       "Certification_Action                            False\n",
       "Certification_Status                            False\n",
       "Certification_Date                              False\n",
       "Renewal_Date                                    False\n",
       "Expiration_Date                                 False\n",
       "Ethnicity                                       False\n",
       "Gender                                          False\n",
       "Commodity_Codes/Work_Codes_with_Descriptions     True\n",
       "Other_Commodity/Work_Codes_with_Descriptions     True\n",
       "Region                                           True\n",
       "Reciprocal_Certification_Agency                  True\n",
       "dtype: bool"
      ]
     },
     "execution_count": 10,
     "metadata": {},
     "output_type": "execute_result"
    }
   ],
   "source": [
    "df_filtered.isnull().any()"
   ]
  },
  {
   "cell_type": "code",
   "execution_count": 11,
   "metadata": {},
   "outputs": [],
   "source": [
    "df_filtered = df_filtered.fillna(0)"
   ]
  },
  {
   "cell_type": "code",
   "execution_count": 12,
   "metadata": {},
   "outputs": [],
   "source": [
    "# df_filtered.isnull().any()"
   ]
  },
  {
   "cell_type": "code",
   "execution_count": 13,
   "metadata": {},
   "outputs": [],
   "source": [
    "# df_filtered.count()"
   ]
  },
  {
   "cell_type": "markdown",
   "metadata": {},
   "source": [
    "## One-Hot Encoding"
   ]
  },
  {
   "cell_type": "code",
   "execution_count": 14,
   "metadata": {},
   "outputs": [
    {
     "data": {
      "text/html": [
       "<div>\n",
       "<style scoped>\n",
       "    .dataframe tbody tr th:only-of-type {\n",
       "        vertical-align: middle;\n",
       "    }\n",
       "\n",
       "    .dataframe tbody tr th {\n",
       "        vertical-align: top;\n",
       "    }\n",
       "\n",
       "    .dataframe thead th {\n",
       "        text-align: right;\n",
       "    }\n",
       "</style>\n",
       "<table border=\"1\" class=\"dataframe\">\n",
       "  <thead>\n",
       "    <tr style=\"text-align: right;\">\n",
       "      <th></th>\n",
       "      <th>Ethnicity</th>\n",
       "      <th>Gender</th>\n",
       "    </tr>\n",
       "  </thead>\n",
       "  <tbody>\n",
       "    <tr>\n",
       "      <th>0</th>\n",
       "      <td>Caucasian</td>\n",
       "      <td>Female</td>\n",
       "    </tr>\n",
       "    <tr>\n",
       "      <th>6</th>\n",
       "      <td>Hispanic</td>\n",
       "      <td>Female</td>\n",
       "    </tr>\n",
       "    <tr>\n",
       "      <th>8</th>\n",
       "      <td>Hispanic</td>\n",
       "      <td>Female</td>\n",
       "    </tr>\n",
       "    <tr>\n",
       "      <th>11</th>\n",
       "      <td>Asian American</td>\n",
       "      <td>Male</td>\n",
       "    </tr>\n",
       "    <tr>\n",
       "      <th>13</th>\n",
       "      <td>Caucasian</td>\n",
       "      <td>Male</td>\n",
       "    </tr>\n",
       "  </tbody>\n",
       "</table>\n",
       "</div>"
      ],
      "text/plain": [
       "         Ethnicity  Gender\n",
       "0        Caucasian  Female\n",
       "6         Hispanic  Female\n",
       "8         Hispanic  Female\n",
       "11  Asian American    Male\n",
       "13       Caucasian    Male"
      ]
     },
     "execution_count": 14,
     "metadata": {},
     "output_type": "execute_result"
    }
   ],
   "source": [
    "# sample taken from: https://www.ritchieng.com/machine-learning-linear-regression/\n",
    "\n",
    "# create a Python list of feature names\n",
    "feature_cols = ['Ethnicity','Gender']\n",
    "\n",
    "# use the list to select a subset of the original DataFrame\n",
    "X = df_filtered[feature_cols]\n",
    "\n",
    "# equivalent command to do this in one line using double square brackets\n",
    "# inner bracket is a list\n",
    "# outer bracker accesses a subset of the original DataFrame\n",
    "#    X = data[['Ethnicity', 'Gender']]\n",
    "\n",
    "# print the first 5 rows\n",
    "X.head()\n"
   ]
  },
  {
   "cell_type": "code",
   "execution_count": 15,
   "metadata": {},
   "outputs": [
    {
     "name": "stdout",
     "output_type": "stream",
     "text": [
      "<class 'pandas.core.frame.DataFrame'>\n",
      "(3387, 2)\n"
     ]
    }
   ],
   "source": [
    "# check the type and shape of X\n",
    "print(type(X))\n",
    "print(X.shape)"
   ]
  },
  {
   "cell_type": "code",
   "execution_count": 16,
   "metadata": {},
   "outputs": [
    {
     "data": {
      "text/plain": [
       "Index(['Ethnicity', 'Gender'], dtype='object')"
      ]
     },
     "execution_count": 16,
     "metadata": {},
     "output_type": "execute_result"
    }
   ],
   "source": [
    "# view columns using df.columns\n",
    "X.columns"
   ]
  },
  {
   "cell_type": "code",
   "execution_count": 54,
   "metadata": {},
   "outputs": [
    {
     "data": {
      "text/html": [
       "<div>\n",
       "<style scoped>\n",
       "    .dataframe tbody tr th:only-of-type {\n",
       "        vertical-align: middle;\n",
       "    }\n",
       "\n",
       "    .dataframe tbody tr th {\n",
       "        vertical-align: top;\n",
       "    }\n",
       "\n",
       "    .dataframe thead th {\n",
       "        text-align: right;\n",
       "    }\n",
       "</style>\n",
       "<table border=\"1\" class=\"dataframe\">\n",
       "  <thead>\n",
       "    <tr style=\"text-align: right;\">\n",
       "      <th></th>\n",
       "      <th>Ethnicity</th>\n",
       "      <th>Gender</th>\n",
       "    </tr>\n",
       "  </thead>\n",
       "  <tbody>\n",
       "    <tr>\n",
       "      <th>0</th>\n",
       "      <td>3</td>\n",
       "      <td>0</td>\n",
       "    </tr>\n",
       "    <tr>\n",
       "      <th>6</th>\n",
       "      <td>4</td>\n",
       "      <td>0</td>\n",
       "    </tr>\n",
       "    <tr>\n",
       "      <th>8</th>\n",
       "      <td>4</td>\n",
       "      <td>0</td>\n",
       "    </tr>\n",
       "    <tr>\n",
       "      <th>11</th>\n",
       "      <td>2</td>\n",
       "      <td>1</td>\n",
       "    </tr>\n",
       "    <tr>\n",
       "      <th>13</th>\n",
       "      <td>3</td>\n",
       "      <td>1</td>\n",
       "    </tr>\n",
       "  </tbody>\n",
       "</table>\n",
       "</div>"
      ],
      "text/plain": [
       "    Ethnicity  Gender\n",
       "0           3       0\n",
       "6           4       0\n",
       "8           4       0\n",
       "11          2       1\n",
       "13          3       1"
      ]
     },
     "execution_count": 54,
     "metadata": {},
     "output_type": "execute_result"
    }
   ],
   "source": [
    "# TODO: create a LabelEncoder object and fit it to each feature in X\n",
    "\n",
    "# 1. INSTANTIATE\n",
    "# encode labels with value between 0 and n_classes-1.\n",
    "le = preprocessing.LabelEncoder()\n",
    "\n",
    "\n",
    "# 2/3. FIT AND TRANSFORM\n",
    "# use df.apply() to apply le.fit_transform to all columns\n",
    "X_2 = X.apply(le.fit_transform)\n",
    "X_2.head()"
   ]
  },
  {
   "cell_type": "code",
   "execution_count": 18,
   "metadata": {},
   "outputs": [
    {
     "data": {
      "text/plain": [
       "(3387, 8)"
      ]
     },
     "execution_count": 18,
     "metadata": {},
     "output_type": "execute_result"
    }
   ],
   "source": [
    "# TODO: create a OneHotEncoder object, and fit it to all of X\n",
    "\n",
    "# 1. INSTANTIATE\n",
    "enc = preprocessing.OneHotEncoder()\n",
    "\n",
    "# 2. FIT\n",
    "enc.fit(X_2)\n",
    "\n",
    "# 3. Transform\n",
    "onehotlabels = enc.transform(X_2).toarray()\n",
    "onehotlabels.shape\n",
    "\n",
    "# as you can see, you've the same number of rows 891\n",
    "# but now you've so many more columns due to how we changed all the categorical data into numerical data"
   ]
  },
  {
   "cell_type": "code",
   "execution_count": 19,
   "metadata": {},
   "outputs": [
    {
     "data": {
      "text/plain": [
       "array([[0., 0., 0., ..., 0., 1., 0.],\n",
       "       [0., 0., 0., ..., 0., 1., 0.],\n",
       "       [0., 0., 0., ..., 0., 1., 0.],\n",
       "       ...,\n",
       "       [1., 0., 0., ..., 0., 1., 0.],\n",
       "       [1., 0., 0., ..., 0., 0., 1.],\n",
       "       [1., 0., 0., ..., 0., 1., 0.]])"
      ]
     },
     "execution_count": 19,
     "metadata": {},
     "output_type": "execute_result"
    }
   ],
   "source": [
    "onehotlabels"
   ]
  },
  {
   "cell_type": "code",
   "execution_count": 20,
   "metadata": {},
   "outputs": [
    {
     "data": {
      "text/plain": [
       "numpy.ndarray"
      ]
     },
     "execution_count": 20,
     "metadata": {},
     "output_type": "execute_result"
    }
   ],
   "source": [
    "type(onehotlabels)"
   ]
  },
  {
   "cell_type": "code",
   "execution_count": 21,
   "metadata": {},
   "outputs": [
    {
     "data": {
      "text/plain": [
       "0      WBE\n",
       "6     WMBE\n",
       "8     WMBE\n",
       "11    VOSB\n",
       "13    VOSB\n",
       "Name: Certification_Type, dtype: object"
      ]
     },
     "execution_count": 21,
     "metadata": {},
     "output_type": "execute_result"
    }
   ],
   "source": [
    "# select a Series from the DataFrame\n",
    "y = df_filtered['Certification_Type']\n",
    "\n",
    "# equivalent command that works if there are no spaces in the column name\n",
    "# you can select the Sales as an attribute of the DataFrame\n",
    "#  y = df_filtered.Certification_Type\n",
    "\n",
    "# print the first 5 values\n",
    "y.head()"
   ]
  },
  {
   "cell_type": "code",
   "execution_count": 22,
   "metadata": {},
   "outputs": [
    {
     "name": "stdout",
     "output_type": "stream",
     "text": [
      "<class 'pandas.core.series.Series'>\n",
      "(3387,)\n"
     ]
    }
   ],
   "source": [
    "# check the type and shape of y\n",
    "print(type(y))\n",
    "print(y.shape)"
   ]
  },
  {
   "cell_type": "code",
   "execution_count": 23,
   "metadata": {},
   "outputs": [
    {
     "name": "stdout",
     "output_type": "stream",
     "text": [
      "['WBE' 'WMBE' 'VOSB' 'MBE' 'SDVOSB' 'PBE']\n"
     ]
    }
   ],
   "source": [
    "print(df_filtered['Certification_Type'].unique())"
   ]
  },
  {
   "cell_type": "code",
   "execution_count": 24,
   "metadata": {},
   "outputs": [
    {
     "name": "stdout",
     "output_type": "stream",
     "text": [
      "Certification_Type\n",
      "MBE       1354\n",
      "PBE         26\n",
      "SDVOSB      83\n",
      "VOSB       137\n",
      "WBE       1036\n",
      "WMBE       751\n",
      "dtype: int64\n"
     ]
    }
   ],
   "source": [
    "print(df_filtered.groupby('Certification_Type').size())"
   ]
  },
  {
   "cell_type": "code",
   "execution_count": 25,
   "metadata": {},
   "outputs": [
    {
     "data": {
      "image/png": "[encoded data removed]",
      "text/plain": [
       "<Figure size 432x288 with 1 Axes>"
      ]
     },
     "metadata": {
      "needs_background": "light"
     },
     "output_type": "display_data"
    }
   ],
   "source": [
    "# Use seaborn to plot graph\n",
    "sns.countplot(df_filtered['Certification_Type'],label=\"Count\")\n",
    "plt.show()"
   ]
  },
  {
   "cell_type": "markdown",
   "metadata": {},
   "source": [
    "## Sklearn Model "
   ]
  },
  {
   "cell_type": "code",
   "execution_count": 26,
   "metadata": {},
   "outputs": [],
   "source": [
    "# import  \n",
    "from sklearn.model_selection import train_test_split\n",
    "X_train, X_test, y_train, y_test = train_test_split(X_2, y, random_state=0)"
   ]
  },
  {
   "cell_type": "code",
   "execution_count": 27,
   "metadata": {},
   "outputs": [
    {
     "name": "stdout",
     "output_type": "stream",
     "text": [
      "(2540, 2)\n",
      "(847, 2)\n",
      "(2540,)\n",
      "(847,)\n"
     ]
    }
   ],
   "source": [
    "# default split is 75% for training and 25% for testing\n",
    "print(X_train.shape)\n",
    "print(X_test.shape)\n",
    "print(y_train.shape)\n",
    "print(y_test.shape)"
   ]
  },
  {
   "cell_type": "markdown",
   "metadata": {},
   "source": [
    "## Build Models\n",
    "### Logistic Regression"
   ]
  },
  {
   "cell_type": "code",
   "execution_count": 28,
   "metadata": {},
   "outputs": [
    {
     "name": "stdout",
     "output_type": "stream",
     "text": [
      "Accuracy of Logistic regression classifier on training set: 0.86\n",
      "Accuracy of Logistic regression classifier on test set: 0.87\n"
     ]
    }
   ],
   "source": [
    "from sklearn.linear_model import LogisticRegression\n",
    "\n",
    "logreg = LogisticRegression()\n",
    "logreg.fit(X_train, y_train)\n",
    "\n",
    "print('Accuracy of Logistic regression classifier on training set: {:.2f}'\n",
    "     .format(logreg.score(X_train, y_train)))\n",
    "print('Accuracy of Logistic regression classifier on test set: {:.2f}'\n",
    "     .format(logreg.score(X_test, y_test)))"
   ]
  },
  {
   "cell_type": "markdown",
   "metadata": {},
   "source": [
    "### Decision Tree"
   ]
  },
  {
   "cell_type": "code",
   "execution_count": 37,
   "metadata": {},
   "outputs": [
    {
     "name": "stdout",
     "output_type": "stream",
     "text": [
      "Accuracy of Decision Tree classifier on training set: 0.92\n",
      "Accuracy of Decision Tree classifier on test set: 0.92\n"
     ]
    }
   ],
   "source": [
    "from sklearn.tree import DecisionTreeClassifier\n",
    "\n",
    "clf = DecisionTreeClassifier().fit(X_train, y_train)\n",
    "\n",
    "print('Accuracy of Decision Tree classifier on training set: {:.2f}'\n",
    "     .format(clf.score(X_train, y_train)))\n",
    "print('Accuracy of Decision Tree classifier on test set: {:.2f}'\n",
    "     .format(clf.score(X_test, y_test)))"
   ]
  },
  {
   "cell_type": "markdown",
   "metadata": {},
   "source": [
    "### K-Nearest Neighbors"
   ]
  },
  {
   "cell_type": "code",
   "execution_count": 38,
   "metadata": {},
   "outputs": [
    {
     "name": "stdout",
     "output_type": "stream",
     "text": [
      "Accuracy of K-NN classifier on training set: 0.92\n",
      "Accuracy of K-NN classifier on test set: 0.92\n"
     ]
    }
   ],
   "source": [
    "from sklearn.neighbors import KNeighborsClassifier\n",
    "\n",
    "knn = KNeighborsClassifier()\n",
    "knn.fit(X_train, y_train)\n",
    "print('Accuracy of K-NN classifier on training set: {:.2f}'\n",
    "     .format(knn.score(X_train, y_train)))\n",
    "print('Accuracy of K-NN classifier on test set: {:.2f}'\n",
    "     .format(knn.score(X_test, y_test)))"
   ]
  },
  {
   "cell_type": "markdown",
   "metadata": {},
   "source": [
    "### Linear Discriminant Analysis"
   ]
  },
  {
   "cell_type": "code",
   "execution_count": 39,
   "metadata": {},
   "outputs": [
    {
     "name": "stdout",
     "output_type": "stream",
     "text": [
      "Accuracy of LDA classifier on training set: 0.82\n",
      "Accuracy of LDA classifier on test set: 0.84\n"
     ]
    }
   ],
   "source": [
    "from sklearn.discriminant_analysis import LinearDiscriminantAnalysis\n",
    "\n",
    "lda = LinearDiscriminantAnalysis()\n",
    "lda.fit(X_train, y_train)\n",
    "print('Accuracy of LDA classifier on training set: {:.2f}'\n",
    "     .format(lda.score(X_train, y_train)))\n",
    "print('Accuracy of LDA classifier on test set: {:.2f}'\n",
    "     .format(lda.score(X_test, y_test)))"
   ]
  },
  {
   "cell_type": "markdown",
   "metadata": {},
   "source": [
    "### Gaussian Naive Bayes"
   ]
  },
  {
   "cell_type": "code",
   "execution_count": 40,
   "metadata": {},
   "outputs": [
    {
     "name": "stdout",
     "output_type": "stream",
     "text": [
      "Accuracy of GNB classifier on training set: 0.90\n",
      "Accuracy of GNB classifier on test set: 0.91\n"
     ]
    }
   ],
   "source": [
    "from sklearn.naive_bayes import GaussianNB\n",
    "\n",
    "gnb = GaussianNB()\n",
    "gnb.fit(X_train, y_train)\n",
    "print('Accuracy of GNB classifier on training set: {:.2f}'\n",
    "     .format(gnb.score(X_train, y_train)))\n",
    "print('Accuracy of GNB classifier on test set: {:.2f}'\n",
    "     .format(gnb.score(X_test, y_test)))"
   ]
  },
  {
   "cell_type": "markdown",
   "metadata": {},
   "source": [
    "### Support Vector Machine"
   ]
  },
  {
   "cell_type": "code",
   "execution_count": 41,
   "metadata": {},
   "outputs": [
    {
     "name": "stdout",
     "output_type": "stream",
     "text": [
      "Accuracy of SVM classifier on training set: 0.92\n",
      "Accuracy of SVM classifier on test set: 0.92\n"
     ]
    }
   ],
   "source": [
    "from sklearn.svm import SVC\n",
    "\n",
    "svm = SVC()\n",
    "svm.fit(X_train, y_train)\n",
    "print('Accuracy of SVM classifier on training set: {:.2f}'\n",
    "     .format(svm.score(X_train, y_train)))\n",
    "print('Accuracy of SVM classifier on test set: {:.2f}'\n",
    "     .format(svm.score(X_test, y_test)))"
   ]
  },
  {
   "cell_type": "code",
   "execution_count": 42,
   "metadata": {},
   "outputs": [
    {
     "name": "stdout",
     "output_type": "stream",
     "text": [
      "[[320   0   0   0   6  10]\n",
      " [  1   0   0   6   1   0]\n",
      " [  5   0   0   8   1   1]\n",
      " [  8   0   0  18   1   4]\n",
      " [  0   0   0   0 269   7]\n",
      " [  3   0   0   0   4 174]]\n",
      "              precision    recall  f1-score   support\n",
      "\n",
      "         MBE       0.95      0.95      0.95       336\n",
      "         PBE       0.00      0.00      0.00         8\n",
      "      SDVOSB       0.00      0.00      0.00        15\n",
      "        VOSB       0.56      0.58      0.57        31\n",
      "         WBE       0.95      0.97      0.96       276\n",
      "        WMBE       0.89      0.96      0.92       181\n",
      "\n",
      "    accuracy                           0.92       847\n",
      "   macro avg       0.56      0.58      0.57       847\n",
      "weighted avg       0.90      0.92      0.91       847\n",
      "\n"
     ]
    },
    {
     "name": "stderr",
     "output_type": "stream",
     "text": [
      "C:\\Users\\Gisela Gutierrez\\anaconda3\\lib\\site-packages\\sklearn\\metrics\\_classification.py:1245: UndefinedMetricWarning: Precision and F-score are ill-defined and being set to 0.0 in labels with no predicted samples. Use `zero_division` parameter to control this behavior.\n",
      "  _warn_prf(average, modifier, msg_start, len(result))\n",
      "C:\\Users\\Gisela Gutierrez\\anaconda3\\lib\\site-packages\\sklearn\\metrics\\_classification.py:1245: UndefinedMetricWarning: Precision and F-score are ill-defined and being set to 0.0 in labels with no predicted samples. Use `zero_division` parameter to control this behavior.\n",
      "  _warn_prf(average, modifier, msg_start, len(result))\n",
      "C:\\Users\\Gisela Gutierrez\\anaconda3\\lib\\site-packages\\sklearn\\metrics\\_classification.py:1245: UndefinedMetricWarning: Precision and F-score are ill-defined and being set to 0.0 in labels with no predicted samples. Use `zero_division` parameter to control this behavior.\n",
      "  _warn_prf(average, modifier, msg_start, len(result))\n"
     ]
    }
   ],
   "source": [
    "# Calculate classification report\n",
    "\n",
    "from sklearn.metrics import classification_report\n",
    "from sklearn.metrics import confusion_matrix\n",
    "pred = svm.predict(X_test)\n",
    "print(confusion_matrix(y_test, pred))\n",
    "print(classification_report(y_test, pred))"
   ]
  },
  {
   "cell_type": "code",
   "execution_count": 64,
   "metadata": {},
   "outputs": [],
   "source": [
    "import matplotlib.cm as cm\n",
    "from matplotlib.colors import ListedColormap, BoundaryNorm\n",
    "import matplotlib.patches as mpatches\n",
    "from sklearn.neighbors import KNeighborsClassifier\n",
    "import numpy as np\n",
    "\n",
    "X = df_filtered[['Ethnicity', 'Gender']]\n",
    "y = df_filtered['Certification_Type']\n",
    "X_train, X_test, y_train, y_test = train_test_split(X_2, y, random_state=0)\n",
    "\n",
    "n_neighbors = 5\n",
    "\n",
    "def plot_df_filtered_knn(X, y, n_neighbors):\n",
    "    X_mat = np.array(X[['Ethnicity', 'Gender']])\n",
    "    y_mat = np.array(y)\n",
    "    \n",
    "    # Create color maps\n",
    "    cmap_light = ListedColormap(['#FFAAAA', '#AAFFAA', '#AAAAFF','#AFAFAF','#6D6R64'])\n",
    "    cmap_bold  = ListedColormap(['#FF0000', '#00FF00', '#0000FF','#7D7D7d','#6D6R64'])\n",
    "\n",
    "    clf = KNeighborsClassifier(n_neighbors)\n",
    "    clf.fit(X_mat, y_mat)\n",
    "\n",
    "    # Plot the decision boundary by assigning a color in the color map to each mesh point.\n",
    "\n",
    "    mesh_step_size = .01  # step size in the mesh\n",
    "    plot_symbol_size = 50\n",
    "\n",
    "    x_min, x_max = X_mat[:, 0].min() - 1, X_mat[:, 0].max() + 1\n",
    "    y_min, y_max = X_mat[:, 1].min() - 1, X_mat[:, 1].max() + 1\n",
    "    xx, yy = np.meshgrid(np.arange(x_min, x_max, mesh_step_size),\n",
    "                         np.arange(y_min, y_max, mesh_step_size))\n",
    "    Z = clf.predict(np.c_[xx.ravel(), yy.ravel()])\n",
    "\n",
    "    # Put the result into a color plot\n",
    "    Z = Z.reshape(xx.shape)\n",
    "    plt.figure()\n",
    "    plt.pcolormesh(xx, yy, Z, cmap=cmap_light)\n",
    "\n",
    "    # Plot training points\n",
    "    plt.scatter(X_mat[:, 0], X_mat[:, 1], s=plot_symbol_size, c=y,\n",
    "                cmap=cmap_bold, edgecolor = 'black')\n",
    "    plt.xlim(xx.min(), xx.max())\n",
    "    plt.ylim(yy.min(), yy.max())\n",
    "\n",
    "    # Category_Types = 'WBE' 'WMBE' 'VOSB' 'MBE' 'SDVOSB' 'PBE'\n",
    "\n",
    "    patch0 = mpatches.Patch(color='#FF0000', label='WBE')\n",
    "    patch1 = mpatches.Patch(color='#FFAAAA', label='WMBE')\n",
    "    patch2 = mpatches.Patch(color='#AAFFAA', label='VOSB')\n",
    "    patch3 = mpatches.Patch(color='#00FF00', label='MBE')\n",
    "    patch4 = mpatches.Patch(color='##6d6e64', label='SDVOSB')\n",
    "    patch5 = mpatches.Patch(color='#AFAFAF', label='PBE')\n",
    "    plt.legend(handles=[patch0, patch1, patch2, patch3, patch4, patch5])\n",
    "\n",
    "    plt.xlabel('Gender')\n",
    "    plt.ylabel('Ethnicity')\n",
    "    plt.title(\"4-Class classification (k = %i, weights = '%s')\"\n",
    "               % (n_neighbors, weights))    \n",
    "    plt.show()\n",
    "\n"
   ]
  },
  {
   "cell_type": "code",
   "execution_count": 65,
   "metadata": {},
   "outputs": [
    {
     "ename": "ValueError",
     "evalue": "'c' argument must be a color, a sequence of colors, or a sequence of numbers, not 10378    WMBE\n9516     WMBE\n3817      MBE\n3306     WMBE\n1466      MBE\n         ... \n3560     WMBE\n13907     MBE\n7021      MBE\n11128     MBE\n11665     MBE\nName: Certification_Type, Length: 2540, dtype: object",
     "output_type": "error",
     "traceback": [
      "\u001b[1;31m---------------------------------------------------------------------------\u001b[0m",
      "\u001b[1;31mValueError\u001b[0m                                Traceback (most recent call last)",
      "\u001b[1;32m~\\anaconda3\\lib\\site-packages\\matplotlib\\axes\\_axes.py\u001b[0m in \u001b[0;36m_parse_scatter_color_args\u001b[1;34m(c, edgecolors, kwargs, xsize, get_next_color_func)\u001b[0m\n\u001b[0;32m   4238\u001b[0m             \u001b[1;32mtry\u001b[0m\u001b[1;33m:\u001b[0m  \u001b[1;31m# Is 'c' acceptable as PathCollection facecolors?\u001b[0m\u001b[1;33m\u001b[0m\u001b[1;33m\u001b[0m\u001b[0m\n\u001b[1;32m-> 4239\u001b[1;33m                 \u001b[0mcolors\u001b[0m \u001b[1;33m=\u001b[0m \u001b[0mmcolors\u001b[0m\u001b[1;33m.\u001b[0m\u001b[0mto_rgba_array\u001b[0m\u001b[1;33m(\u001b[0m\u001b[0mc\u001b[0m\u001b[1;33m)\u001b[0m\u001b[1;33m\u001b[0m\u001b[1;33m\u001b[0m\u001b[0m\n\u001b[0m\u001b[0;32m   4240\u001b[0m             \u001b[1;32mexcept\u001b[0m \u001b[0mValueError\u001b[0m\u001b[1;33m:\u001b[0m\u001b[1;33m\u001b[0m\u001b[1;33m\u001b[0m\u001b[0m\n",
      "\u001b[1;32m~\\anaconda3\\lib\\site-packages\\matplotlib\\colors.py\u001b[0m in \u001b[0;36mto_rgba_array\u001b[1;34m(c, alpha)\u001b[0m\n\u001b[0;32m    339\u001b[0m     \u001b[1;32melse\u001b[0m\u001b[1;33m:\u001b[0m\u001b[1;33m\u001b[0m\u001b[1;33m\u001b[0m\u001b[0m\n\u001b[1;32m--> 340\u001b[1;33m         \u001b[1;32mreturn\u001b[0m \u001b[0mnp\u001b[0m\u001b[1;33m.\u001b[0m\u001b[0marray\u001b[0m\u001b[1;33m(\u001b[0m\u001b[1;33m[\u001b[0m\u001b[0mto_rgba\u001b[0m\u001b[1;33m(\u001b[0m\u001b[0mcc\u001b[0m\u001b[1;33m,\u001b[0m \u001b[0malpha\u001b[0m\u001b[1;33m)\u001b[0m \u001b[1;32mfor\u001b[0m \u001b[0mcc\u001b[0m \u001b[1;32min\u001b[0m \u001b[0mc\u001b[0m\u001b[1;33m]\u001b[0m\u001b[1;33m)\u001b[0m\u001b[1;33m\u001b[0m\u001b[1;33m\u001b[0m\u001b[0m\n\u001b[0m\u001b[0;32m    341\u001b[0m \u001b[1;33m\u001b[0m\u001b[0m\n",
      "\u001b[1;32m~\\anaconda3\\lib\\site-packages\\matplotlib\\colors.py\u001b[0m in \u001b[0;36m<listcomp>\u001b[1;34m(.0)\u001b[0m\n\u001b[0;32m    339\u001b[0m     \u001b[1;32melse\u001b[0m\u001b[1;33m:\u001b[0m\u001b[1;33m\u001b[0m\u001b[1;33m\u001b[0m\u001b[0m\n\u001b[1;32m--> 340\u001b[1;33m         \u001b[1;32mreturn\u001b[0m \u001b[0mnp\u001b[0m\u001b[1;33m.\u001b[0m\u001b[0marray\u001b[0m\u001b[1;33m(\u001b[0m\u001b[1;33m[\u001b[0m\u001b[0mto_rgba\u001b[0m\u001b[1;33m(\u001b[0m\u001b[0mcc\u001b[0m\u001b[1;33m,\u001b[0m \u001b[0malpha\u001b[0m\u001b[1;33m)\u001b[0m \u001b[1;32mfor\u001b[0m \u001b[0mcc\u001b[0m \u001b[1;32min\u001b[0m \u001b[0mc\u001b[0m\u001b[1;33m]\u001b[0m\u001b[1;33m)\u001b[0m\u001b[1;33m\u001b[0m\u001b[1;33m\u001b[0m\u001b[0m\n\u001b[0m\u001b[0;32m    341\u001b[0m \u001b[1;33m\u001b[0m\u001b[0m\n",
      "\u001b[1;32m~\\anaconda3\\lib\\site-packages\\matplotlib\\colors.py\u001b[0m in \u001b[0;36mto_rgba\u001b[1;34m(c, alpha)\u001b[0m\n\u001b[0;32m    184\u001b[0m     \u001b[1;32mif\u001b[0m \u001b[0mrgba\u001b[0m \u001b[1;32mis\u001b[0m \u001b[1;32mNone\u001b[0m\u001b[1;33m:\u001b[0m  \u001b[1;31m# Suppress exception chaining of cache lookup failure.\u001b[0m\u001b[1;33m\u001b[0m\u001b[1;33m\u001b[0m\u001b[0m\n\u001b[1;32m--> 185\u001b[1;33m         \u001b[0mrgba\u001b[0m \u001b[1;33m=\u001b[0m \u001b[0m_to_rgba_no_colorcycle\u001b[0m\u001b[1;33m(\u001b[0m\u001b[0mc\u001b[0m\u001b[1;33m,\u001b[0m \u001b[0malpha\u001b[0m\u001b[1;33m)\u001b[0m\u001b[1;33m\u001b[0m\u001b[1;33m\u001b[0m\u001b[0m\n\u001b[0m\u001b[0;32m    186\u001b[0m         \u001b[1;32mtry\u001b[0m\u001b[1;33m:\u001b[0m\u001b[1;33m\u001b[0m\u001b[1;33m\u001b[0m\u001b[0m\n",
      "\u001b[1;32m~\\anaconda3\\lib\\site-packages\\matplotlib\\colors.py\u001b[0m in \u001b[0;36m_to_rgba_no_colorcycle\u001b[1;34m(c, alpha)\u001b[0m\n\u001b[0;32m    260\u001b[0m             \u001b[1;32mreturn\u001b[0m \u001b[0mc\u001b[0m\u001b[1;33m,\u001b[0m \u001b[0mc\u001b[0m\u001b[1;33m,\u001b[0m \u001b[0mc\u001b[0m\u001b[1;33m,\u001b[0m \u001b[0malpha\u001b[0m \u001b[1;32mif\u001b[0m \u001b[0malpha\u001b[0m \u001b[1;32mis\u001b[0m \u001b[1;32mnot\u001b[0m \u001b[1;32mNone\u001b[0m \u001b[1;32melse\u001b[0m \u001b[1;36m1.\u001b[0m\u001b[1;33m\u001b[0m\u001b[1;33m\u001b[0m\u001b[0m\n\u001b[1;32m--> 261\u001b[1;33m         \u001b[1;32mraise\u001b[0m \u001b[0mValueError\u001b[0m\u001b[1;33m(\u001b[0m\u001b[1;34mf\"Invalid RGBA argument: {orig_c!r}\"\u001b[0m\u001b[1;33m)\u001b[0m\u001b[1;33m\u001b[0m\u001b[1;33m\u001b[0m\u001b[0m\n\u001b[0m\u001b[0;32m    262\u001b[0m     \u001b[1;31m# tuple color.\u001b[0m\u001b[1;33m\u001b[0m\u001b[1;33m\u001b[0m\u001b[1;33m\u001b[0m\u001b[0m\n",
      "\u001b[1;31mValueError\u001b[0m: Invalid RGBA argument: 'WMBE'",
      "\nDuring handling of the above exception, another exception occurred:\n",
      "\u001b[1;31mValueError\u001b[0m                                Traceback (most recent call last)",
      "\u001b[1;32m<ipython-input-65-4d5a7503b26c>\u001b[0m in \u001b[0;36m<module>\u001b[1;34m\u001b[0m\n\u001b[1;32m----> 1\u001b[1;33m \u001b[0mplot_df_filtered_knn\u001b[0m\u001b[1;33m(\u001b[0m\u001b[0mX_train\u001b[0m\u001b[1;33m,\u001b[0m \u001b[0my_train\u001b[0m\u001b[1;33m,\u001b[0m\u001b[1;36m5\u001b[0m\u001b[1;33m)\u001b[0m\u001b[1;33m\u001b[0m\u001b[1;33m\u001b[0m\u001b[0m\n\u001b[0m",
      "\u001b[1;32m<ipython-input-64-8ce36f200cd5>\u001b[0m in \u001b[0;36mplot_df_filtered_knn\u001b[1;34m(X, y, n_neighbors)\u001b[0m\n\u001b[0;32m     39\u001b[0m \u001b[1;33m\u001b[0m\u001b[0m\n\u001b[0;32m     40\u001b[0m     \u001b[1;31m# Plot training points\u001b[0m\u001b[1;33m\u001b[0m\u001b[1;33m\u001b[0m\u001b[1;33m\u001b[0m\u001b[0m\n\u001b[1;32m---> 41\u001b[1;33m     plt.scatter(X_mat[:, 0], X_mat[:, 1], s=plot_symbol_size, c=y,\n\u001b[0m\u001b[0;32m     42\u001b[0m                 cmap=cmap_bold, edgecolor = 'black')\n\u001b[0;32m     43\u001b[0m     \u001b[0mplt\u001b[0m\u001b[1;33m.\u001b[0m\u001b[0mxlim\u001b[0m\u001b[1;33m(\u001b[0m\u001b[0mxx\u001b[0m\u001b[1;33m.\u001b[0m\u001b[0mmin\u001b[0m\u001b[1;33m(\u001b[0m\u001b[1;33m)\u001b[0m\u001b[1;33m,\u001b[0m \u001b[0mxx\u001b[0m\u001b[1;33m.\u001b[0m\u001b[0mmax\u001b[0m\u001b[1;33m(\u001b[0m\u001b[1;33m)\u001b[0m\u001b[1;33m)\u001b[0m\u001b[1;33m\u001b[0m\u001b[1;33m\u001b[0m\u001b[0m\n",
      "\u001b[1;32m~\\anaconda3\\lib\\site-packages\\matplotlib\\pyplot.py\u001b[0m in \u001b[0;36mscatter\u001b[1;34m(x, y, s, c, marker, cmap, norm, vmin, vmax, alpha, linewidths, verts, edgecolors, plotnonfinite, data, **kwargs)\u001b[0m\n\u001b[0;32m   2809\u001b[0m         \u001b[0mverts\u001b[0m\u001b[1;33m=\u001b[0m\u001b[0mcbook\u001b[0m\u001b[1;33m.\u001b[0m\u001b[0mdeprecation\u001b[0m\u001b[1;33m.\u001b[0m\u001b[0m_deprecated_parameter\u001b[0m\u001b[1;33m,\u001b[0m\u001b[1;33m\u001b[0m\u001b[1;33m\u001b[0m\u001b[0m\n\u001b[0;32m   2810\u001b[0m         edgecolors=None, *, plotnonfinite=False, data=None, **kwargs):\n\u001b[1;32m-> 2811\u001b[1;33m     __ret = gca().scatter(\n\u001b[0m\u001b[0;32m   2812\u001b[0m         \u001b[0mx\u001b[0m\u001b[1;33m,\u001b[0m \u001b[0my\u001b[0m\u001b[1;33m,\u001b[0m \u001b[0ms\u001b[0m\u001b[1;33m=\u001b[0m\u001b[0ms\u001b[0m\u001b[1;33m,\u001b[0m \u001b[0mc\u001b[0m\u001b[1;33m=\u001b[0m\u001b[0mc\u001b[0m\u001b[1;33m,\u001b[0m \u001b[0mmarker\u001b[0m\u001b[1;33m=\u001b[0m\u001b[0mmarker\u001b[0m\u001b[1;33m,\u001b[0m \u001b[0mcmap\u001b[0m\u001b[1;33m=\u001b[0m\u001b[0mcmap\u001b[0m\u001b[1;33m,\u001b[0m \u001b[0mnorm\u001b[0m\u001b[1;33m=\u001b[0m\u001b[0mnorm\u001b[0m\u001b[1;33m,\u001b[0m\u001b[1;33m\u001b[0m\u001b[1;33m\u001b[0m\u001b[0m\n\u001b[0;32m   2813\u001b[0m         \u001b[0mvmin\u001b[0m\u001b[1;33m=\u001b[0m\u001b[0mvmin\u001b[0m\u001b[1;33m,\u001b[0m \u001b[0mvmax\u001b[0m\u001b[1;33m=\u001b[0m\u001b[0mvmax\u001b[0m\u001b[1;33m,\u001b[0m \u001b[0malpha\u001b[0m\u001b[1;33m=\u001b[0m\u001b[0malpha\u001b[0m\u001b[1;33m,\u001b[0m \u001b[0mlinewidths\u001b[0m\u001b[1;33m=\u001b[0m\u001b[0mlinewidths\u001b[0m\u001b[1;33m,\u001b[0m\u001b[1;33m\u001b[0m\u001b[1;33m\u001b[0m\u001b[0m\n",
      "\u001b[1;32m~\\anaconda3\\lib\\site-packages\\matplotlib\\__init__.py\u001b[0m in \u001b[0;36minner\u001b[1;34m(ax, data, *args, **kwargs)\u001b[0m\n\u001b[0;32m   1563\u001b[0m     \u001b[1;32mdef\u001b[0m \u001b[0minner\u001b[0m\u001b[1;33m(\u001b[0m\u001b[0max\u001b[0m\u001b[1;33m,\u001b[0m \u001b[1;33m*\u001b[0m\u001b[0margs\u001b[0m\u001b[1;33m,\u001b[0m \u001b[0mdata\u001b[0m\u001b[1;33m=\u001b[0m\u001b[1;32mNone\u001b[0m\u001b[1;33m,\u001b[0m \u001b[1;33m**\u001b[0m\u001b[0mkwargs\u001b[0m\u001b[1;33m)\u001b[0m\u001b[1;33m:\u001b[0m\u001b[1;33m\u001b[0m\u001b[1;33m\u001b[0m\u001b[0m\n\u001b[0;32m   1564\u001b[0m         \u001b[1;32mif\u001b[0m \u001b[0mdata\u001b[0m \u001b[1;32mis\u001b[0m \u001b[1;32mNone\u001b[0m\u001b[1;33m:\u001b[0m\u001b[1;33m\u001b[0m\u001b[1;33m\u001b[0m\u001b[0m\n\u001b[1;32m-> 1565\u001b[1;33m             \u001b[1;32mreturn\u001b[0m \u001b[0mfunc\u001b[0m\u001b[1;33m(\u001b[0m\u001b[0max\u001b[0m\u001b[1;33m,\u001b[0m \u001b[1;33m*\u001b[0m\u001b[0mmap\u001b[0m\u001b[1;33m(\u001b[0m\u001b[0msanitize_sequence\u001b[0m\u001b[1;33m,\u001b[0m \u001b[0margs\u001b[0m\u001b[1;33m)\u001b[0m\u001b[1;33m,\u001b[0m \u001b[1;33m**\u001b[0m\u001b[0mkwargs\u001b[0m\u001b[1;33m)\u001b[0m\u001b[1;33m\u001b[0m\u001b[1;33m\u001b[0m\u001b[0m\n\u001b[0m\u001b[0;32m   1566\u001b[0m \u001b[1;33m\u001b[0m\u001b[0m\n\u001b[0;32m   1567\u001b[0m         \u001b[0mbound\u001b[0m \u001b[1;33m=\u001b[0m \u001b[0mnew_sig\u001b[0m\u001b[1;33m.\u001b[0m\u001b[0mbind\u001b[0m\u001b[1;33m(\u001b[0m\u001b[0max\u001b[0m\u001b[1;33m,\u001b[0m \u001b[1;33m*\u001b[0m\u001b[0margs\u001b[0m\u001b[1;33m,\u001b[0m \u001b[1;33m**\u001b[0m\u001b[0mkwargs\u001b[0m\u001b[1;33m)\u001b[0m\u001b[1;33m\u001b[0m\u001b[1;33m\u001b[0m\u001b[0m\n",
      "\u001b[1;32m~\\anaconda3\\lib\\site-packages\\matplotlib\\cbook\\deprecation.py\u001b[0m in \u001b[0;36mwrapper\u001b[1;34m(*args, **kwargs)\u001b[0m\n\u001b[0;32m    356\u001b[0m                 \u001b[1;34mf\"%(removal)s.  If any parameter follows {name!r}, they \"\u001b[0m\u001b[1;33m\u001b[0m\u001b[1;33m\u001b[0m\u001b[0m\n\u001b[0;32m    357\u001b[0m                 f\"should be pass as keyword, not positionally.\")\n\u001b[1;32m--> 358\u001b[1;33m         \u001b[1;32mreturn\u001b[0m \u001b[0mfunc\u001b[0m\u001b[1;33m(\u001b[0m\u001b[1;33m*\u001b[0m\u001b[0margs\u001b[0m\u001b[1;33m,\u001b[0m \u001b[1;33m**\u001b[0m\u001b[0mkwargs\u001b[0m\u001b[1;33m)\u001b[0m\u001b[1;33m\u001b[0m\u001b[1;33m\u001b[0m\u001b[0m\n\u001b[0m\u001b[0;32m    359\u001b[0m \u001b[1;33m\u001b[0m\u001b[0m\n\u001b[0;32m    360\u001b[0m     \u001b[1;32mreturn\u001b[0m \u001b[0mwrapper\u001b[0m\u001b[1;33m\u001b[0m\u001b[1;33m\u001b[0m\u001b[0m\n",
      "\u001b[1;32m~\\anaconda3\\lib\\site-packages\\matplotlib\\axes\\_axes.py\u001b[0m in \u001b[0;36mscatter\u001b[1;34m(self, x, y, s, c, marker, cmap, norm, vmin, vmax, alpha, linewidths, verts, edgecolors, plotnonfinite, **kwargs)\u001b[0m\n\u001b[0;32m   4399\u001b[0m \u001b[1;33m\u001b[0m\u001b[0m\n\u001b[0;32m   4400\u001b[0m         \u001b[0mc\u001b[0m\u001b[1;33m,\u001b[0m \u001b[0mcolors\u001b[0m\u001b[1;33m,\u001b[0m \u001b[0medgecolors\u001b[0m \u001b[1;33m=\u001b[0m\u001b[0;31m \u001b[0m\u001b[0;31m\\\u001b[0m\u001b[1;33m\u001b[0m\u001b[1;33m\u001b[0m\u001b[0m\n\u001b[1;32m-> 4401\u001b[1;33m             self._parse_scatter_color_args(\n\u001b[0m\u001b[0;32m   4402\u001b[0m                 \u001b[0mc\u001b[0m\u001b[1;33m,\u001b[0m \u001b[0medgecolors\u001b[0m\u001b[1;33m,\u001b[0m \u001b[0mkwargs\u001b[0m\u001b[1;33m,\u001b[0m \u001b[0mx\u001b[0m\u001b[1;33m.\u001b[0m\u001b[0msize\u001b[0m\u001b[1;33m,\u001b[0m\u001b[1;33m\u001b[0m\u001b[1;33m\u001b[0m\u001b[0m\n\u001b[0;32m   4403\u001b[0m                 get_next_color_func=self._get_patches_for_fill.get_next_color)\n",
      "\u001b[1;32m~\\anaconda3\\lib\\site-packages\\matplotlib\\axes\\_axes.py\u001b[0m in \u001b[0;36m_parse_scatter_color_args\u001b[1;34m(c, edgecolors, kwargs, xsize, get_next_color_func)\u001b[0m\n\u001b[0;32m   4243\u001b[0m                 \u001b[1;31m# Both the mapping *and* the RGBA conversion failed: pretty\u001b[0m\u001b[1;33m\u001b[0m\u001b[1;33m\u001b[0m\u001b[1;33m\u001b[0m\u001b[0m\n\u001b[0;32m   4244\u001b[0m                 \u001b[1;31m# severe failure => one may appreciate a verbose feedback.\u001b[0m\u001b[1;33m\u001b[0m\u001b[1;33m\u001b[0m\u001b[1;33m\u001b[0m\u001b[0m\n\u001b[1;32m-> 4245\u001b[1;33m                 raise ValueError(\n\u001b[0m\u001b[0;32m   4246\u001b[0m                     \u001b[1;34mf\"'c' argument must be a color, a sequence of colors, or \"\u001b[0m\u001b[1;33m\u001b[0m\u001b[1;33m\u001b[0m\u001b[0m\n\u001b[0;32m   4247\u001b[0m                     f\"a sequence of numbers, not {c}\")\n",
      "\u001b[1;31mValueError\u001b[0m: 'c' argument must be a color, a sequence of colors, or a sequence of numbers, not 10378    WMBE\n9516     WMBE\n3817      MBE\n3306     WMBE\n1466      MBE\n         ... \n3560     WMBE\n13907     MBE\n7021      MBE\n11128     MBE\n11665     MBE\nName: Certification_Type, Length: 2540, dtype: object"
     ]
    },
    {
     "ename": "TypeError",
     "evalue": "iteration over a 0-d array",
     "output_type": "error",
     "traceback": [
      "\u001b[1;31m---------------------------------------------------------------------------\u001b[0m",
      "\u001b[1;31mTypeError\u001b[0m                                 Traceback (most recent call last)",
      "\u001b[1;32m~\\anaconda3\\lib\\site-packages\\IPython\\core\\formatters.py\u001b[0m in \u001b[0;36m__call__\u001b[1;34m(self, obj)\u001b[0m\n\u001b[0;32m    339\u001b[0m                 \u001b[1;32mpass\u001b[0m\u001b[1;33m\u001b[0m\u001b[1;33m\u001b[0m\u001b[0m\n\u001b[0;32m    340\u001b[0m             \u001b[1;32melse\u001b[0m\u001b[1;33m:\u001b[0m\u001b[1;33m\u001b[0m\u001b[1;33m\u001b[0m\u001b[0m\n\u001b[1;32m--> 341\u001b[1;33m                 \u001b[1;32mreturn\u001b[0m \u001b[0mprinter\u001b[0m\u001b[1;33m(\u001b[0m\u001b[0mobj\u001b[0m\u001b[1;33m)\u001b[0m\u001b[1;33m\u001b[0m\u001b[1;33m\u001b[0m\u001b[0m\n\u001b[0m\u001b[0;32m    342\u001b[0m             \u001b[1;31m# Finally look for special method names\u001b[0m\u001b[1;33m\u001b[0m\u001b[1;33m\u001b[0m\u001b[1;33m\u001b[0m\u001b[0m\n\u001b[0;32m    343\u001b[0m             \u001b[0mmethod\u001b[0m \u001b[1;33m=\u001b[0m \u001b[0mget_real_method\u001b[0m\u001b[1;33m(\u001b[0m\u001b[0mobj\u001b[0m\u001b[1;33m,\u001b[0m \u001b[0mself\u001b[0m\u001b[1;33m.\u001b[0m\u001b[0mprint_method\u001b[0m\u001b[1;33m)\u001b[0m\u001b[1;33m\u001b[0m\u001b[1;33m\u001b[0m\u001b[0m\n",
      "\u001b[1;32m~\\anaconda3\\lib\\site-packages\\IPython\\core\\pylabtools.py\u001b[0m in \u001b[0;36m<lambda>\u001b[1;34m(fig)\u001b[0m\n\u001b[0;32m    246\u001b[0m \u001b[1;33m\u001b[0m\u001b[0m\n\u001b[0;32m    247\u001b[0m     \u001b[1;32mif\u001b[0m \u001b[1;34m'png'\u001b[0m \u001b[1;32min\u001b[0m \u001b[0mformats\u001b[0m\u001b[1;33m:\u001b[0m\u001b[1;33m\u001b[0m\u001b[1;33m\u001b[0m\u001b[0m\n\u001b[1;32m--> 248\u001b[1;33m         \u001b[0mpng_formatter\u001b[0m\u001b[1;33m.\u001b[0m\u001b[0mfor_type\u001b[0m\u001b[1;33m(\u001b[0m\u001b[0mFigure\u001b[0m\u001b[1;33m,\u001b[0m \u001b[1;32mlambda\u001b[0m \u001b[0mfig\u001b[0m\u001b[1;33m:\u001b[0m \u001b[0mprint_figure\u001b[0m\u001b[1;33m(\u001b[0m\u001b[0mfig\u001b[0m\u001b[1;33m,\u001b[0m \u001b[1;34m'png'\u001b[0m\u001b[1;33m,\u001b[0m \u001b[1;33m**\u001b[0m\u001b[0mkwargs\u001b[0m\u001b[1;33m)\u001b[0m\u001b[1;33m)\u001b[0m\u001b[1;33m\u001b[0m\u001b[1;33m\u001b[0m\u001b[0m\n\u001b[0m\u001b[0;32m    249\u001b[0m     \u001b[1;32mif\u001b[0m \u001b[1;34m'retina'\u001b[0m \u001b[1;32min\u001b[0m \u001b[0mformats\u001b[0m \u001b[1;32mor\u001b[0m \u001b[1;34m'png2x'\u001b[0m \u001b[1;32min\u001b[0m \u001b[0mformats\u001b[0m\u001b[1;33m:\u001b[0m\u001b[1;33m\u001b[0m\u001b[1;33m\u001b[0m\u001b[0m\n\u001b[0;32m    250\u001b[0m         \u001b[0mpng_formatter\u001b[0m\u001b[1;33m.\u001b[0m\u001b[0mfor_type\u001b[0m\u001b[1;33m(\u001b[0m\u001b[0mFigure\u001b[0m\u001b[1;33m,\u001b[0m \u001b[1;32mlambda\u001b[0m \u001b[0mfig\u001b[0m\u001b[1;33m:\u001b[0m \u001b[0mretina_figure\u001b[0m\u001b[1;33m(\u001b[0m\u001b[0mfig\u001b[0m\u001b[1;33m,\u001b[0m \u001b[1;33m**\u001b[0m\u001b[0mkwargs\u001b[0m\u001b[1;33m)\u001b[0m\u001b[1;33m)\u001b[0m\u001b[1;33m\u001b[0m\u001b[1;33m\u001b[0m\u001b[0m\n",
      "\u001b[1;32m~\\anaconda3\\lib\\site-packages\\IPython\\core\\pylabtools.py\u001b[0m in \u001b[0;36mprint_figure\u001b[1;34m(fig, fmt, bbox_inches, **kwargs)\u001b[0m\n\u001b[0;32m    130\u001b[0m         \u001b[0mFigureCanvasBase\u001b[0m\u001b[1;33m(\u001b[0m\u001b[0mfig\u001b[0m\u001b[1;33m)\u001b[0m\u001b[1;33m\u001b[0m\u001b[1;33m\u001b[0m\u001b[0m\n\u001b[0;32m    131\u001b[0m \u001b[1;33m\u001b[0m\u001b[0m\n\u001b[1;32m--> 132\u001b[1;33m     \u001b[0mfig\u001b[0m\u001b[1;33m.\u001b[0m\u001b[0mcanvas\u001b[0m\u001b[1;33m.\u001b[0m\u001b[0mprint_figure\u001b[0m\u001b[1;33m(\u001b[0m\u001b[0mbytes_io\u001b[0m\u001b[1;33m,\u001b[0m \u001b[1;33m**\u001b[0m\u001b[0mkw\u001b[0m\u001b[1;33m)\u001b[0m\u001b[1;33m\u001b[0m\u001b[1;33m\u001b[0m\u001b[0m\n\u001b[0m\u001b[0;32m    133\u001b[0m     \u001b[0mdata\u001b[0m \u001b[1;33m=\u001b[0m \u001b[0mbytes_io\u001b[0m\u001b[1;33m.\u001b[0m\u001b[0mgetvalue\u001b[0m\u001b[1;33m(\u001b[0m\u001b[1;33m)\u001b[0m\u001b[1;33m\u001b[0m\u001b[1;33m\u001b[0m\u001b[0m\n\u001b[0;32m    134\u001b[0m     \u001b[1;32mif\u001b[0m \u001b[0mfmt\u001b[0m \u001b[1;33m==\u001b[0m \u001b[1;34m'svg'\u001b[0m\u001b[1;33m:\u001b[0m\u001b[1;33m\u001b[0m\u001b[1;33m\u001b[0m\u001b[0m\n",
      "\u001b[1;32m~\\anaconda3\\lib\\site-packages\\matplotlib\\backend_bases.py\u001b[0m in \u001b[0;36mprint_figure\u001b[1;34m(self, filename, dpi, facecolor, edgecolor, orientation, format, bbox_inches, **kwargs)\u001b[0m\n\u001b[0;32m   2098\u001b[0m                            else suppress())\n\u001b[0;32m   2099\u001b[0m                     \u001b[1;32mwith\u001b[0m \u001b[0mctx\u001b[0m\u001b[1;33m:\u001b[0m\u001b[1;33m\u001b[0m\u001b[1;33m\u001b[0m\u001b[0m\n\u001b[1;32m-> 2100\u001b[1;33m                         \u001b[0mself\u001b[0m\u001b[1;33m.\u001b[0m\u001b[0mfigure\u001b[0m\u001b[1;33m.\u001b[0m\u001b[0mdraw\u001b[0m\u001b[1;33m(\u001b[0m\u001b[0mrenderer\u001b[0m\u001b[1;33m)\u001b[0m\u001b[1;33m\u001b[0m\u001b[1;33m\u001b[0m\u001b[0m\n\u001b[0m\u001b[0;32m   2101\u001b[0m                     \u001b[0mbbox_artists\u001b[0m \u001b[1;33m=\u001b[0m \u001b[0mkwargs\u001b[0m\u001b[1;33m.\u001b[0m\u001b[0mpop\u001b[0m\u001b[1;33m(\u001b[0m\u001b[1;34m\"bbox_extra_artists\"\u001b[0m\u001b[1;33m,\u001b[0m \u001b[1;32mNone\u001b[0m\u001b[1;33m)\u001b[0m\u001b[1;33m\u001b[0m\u001b[1;33m\u001b[0m\u001b[0m\n\u001b[0;32m   2102\u001b[0m                     bbox_inches = self.figure.get_tightbbox(renderer,\n",
      "\u001b[1;32m~\\anaconda3\\lib\\site-packages\\matplotlib\\artist.py\u001b[0m in \u001b[0;36mdraw_wrapper\u001b[1;34m(artist, renderer, *args, **kwargs)\u001b[0m\n\u001b[0;32m     36\u001b[0m                 \u001b[0mrenderer\u001b[0m\u001b[1;33m.\u001b[0m\u001b[0mstart_filter\u001b[0m\u001b[1;33m(\u001b[0m\u001b[1;33m)\u001b[0m\u001b[1;33m\u001b[0m\u001b[1;33m\u001b[0m\u001b[0m\n\u001b[0;32m     37\u001b[0m \u001b[1;33m\u001b[0m\u001b[0m\n\u001b[1;32m---> 38\u001b[1;33m             \u001b[1;32mreturn\u001b[0m \u001b[0mdraw\u001b[0m\u001b[1;33m(\u001b[0m\u001b[0martist\u001b[0m\u001b[1;33m,\u001b[0m \u001b[0mrenderer\u001b[0m\u001b[1;33m,\u001b[0m \u001b[1;33m*\u001b[0m\u001b[0margs\u001b[0m\u001b[1;33m,\u001b[0m \u001b[1;33m**\u001b[0m\u001b[0mkwargs\u001b[0m\u001b[1;33m)\u001b[0m\u001b[1;33m\u001b[0m\u001b[1;33m\u001b[0m\u001b[0m\n\u001b[0m\u001b[0;32m     39\u001b[0m         \u001b[1;32mfinally\u001b[0m\u001b[1;33m:\u001b[0m\u001b[1;33m\u001b[0m\u001b[1;33m\u001b[0m\u001b[0m\n\u001b[0;32m     40\u001b[0m             \u001b[1;32mif\u001b[0m \u001b[0martist\u001b[0m\u001b[1;33m.\u001b[0m\u001b[0mget_agg_filter\u001b[0m\u001b[1;33m(\u001b[0m\u001b[1;33m)\u001b[0m \u001b[1;32mis\u001b[0m \u001b[1;32mnot\u001b[0m \u001b[1;32mNone\u001b[0m\u001b[1;33m:\u001b[0m\u001b[1;33m\u001b[0m\u001b[1;33m\u001b[0m\u001b[0m\n",
      "\u001b[1;32m~\\anaconda3\\lib\\site-packages\\matplotlib\\figure.py\u001b[0m in \u001b[0;36mdraw\u001b[1;34m(self, renderer)\u001b[0m\n\u001b[0;32m   1733\u001b[0m \u001b[1;33m\u001b[0m\u001b[0m\n\u001b[0;32m   1734\u001b[0m             \u001b[0mself\u001b[0m\u001b[1;33m.\u001b[0m\u001b[0mpatch\u001b[0m\u001b[1;33m.\u001b[0m\u001b[0mdraw\u001b[0m\u001b[1;33m(\u001b[0m\u001b[0mrenderer\u001b[0m\u001b[1;33m)\u001b[0m\u001b[1;33m\u001b[0m\u001b[1;33m\u001b[0m\u001b[0m\n\u001b[1;32m-> 1735\u001b[1;33m             mimage._draw_list_compositing_images(\n\u001b[0m\u001b[0;32m   1736\u001b[0m                 renderer, self, artists, self.suppressComposite)\n\u001b[0;32m   1737\u001b[0m \u001b[1;33m\u001b[0m\u001b[0m\n",
      "\u001b[1;32m~\\anaconda3\\lib\\site-packages\\matplotlib\\image.py\u001b[0m in \u001b[0;36m_draw_list_compositing_images\u001b[1;34m(renderer, parent, artists, suppress_composite)\u001b[0m\n\u001b[0;32m    135\u001b[0m     \u001b[1;32mif\u001b[0m \u001b[0mnot_composite\u001b[0m \u001b[1;32mor\u001b[0m \u001b[1;32mnot\u001b[0m \u001b[0mhas_images\u001b[0m\u001b[1;33m:\u001b[0m\u001b[1;33m\u001b[0m\u001b[1;33m\u001b[0m\u001b[0m\n\u001b[0;32m    136\u001b[0m         \u001b[1;32mfor\u001b[0m \u001b[0ma\u001b[0m \u001b[1;32min\u001b[0m \u001b[0martists\u001b[0m\u001b[1;33m:\u001b[0m\u001b[1;33m\u001b[0m\u001b[1;33m\u001b[0m\u001b[0m\n\u001b[1;32m--> 137\u001b[1;33m             \u001b[0ma\u001b[0m\u001b[1;33m.\u001b[0m\u001b[0mdraw\u001b[0m\u001b[1;33m(\u001b[0m\u001b[0mrenderer\u001b[0m\u001b[1;33m)\u001b[0m\u001b[1;33m\u001b[0m\u001b[1;33m\u001b[0m\u001b[0m\n\u001b[0m\u001b[0;32m    138\u001b[0m     \u001b[1;32melse\u001b[0m\u001b[1;33m:\u001b[0m\u001b[1;33m\u001b[0m\u001b[1;33m\u001b[0m\u001b[0m\n\u001b[0;32m    139\u001b[0m         \u001b[1;31m# Composite any adjacent images together\u001b[0m\u001b[1;33m\u001b[0m\u001b[1;33m\u001b[0m\u001b[1;33m\u001b[0m\u001b[0m\n",
      "\u001b[1;32m~\\anaconda3\\lib\\site-packages\\matplotlib\\artist.py\u001b[0m in \u001b[0;36mdraw_wrapper\u001b[1;34m(artist, renderer, *args, **kwargs)\u001b[0m\n\u001b[0;32m     36\u001b[0m                 \u001b[0mrenderer\u001b[0m\u001b[1;33m.\u001b[0m\u001b[0mstart_filter\u001b[0m\u001b[1;33m(\u001b[0m\u001b[1;33m)\u001b[0m\u001b[1;33m\u001b[0m\u001b[1;33m\u001b[0m\u001b[0m\n\u001b[0;32m     37\u001b[0m \u001b[1;33m\u001b[0m\u001b[0m\n\u001b[1;32m---> 38\u001b[1;33m             \u001b[1;32mreturn\u001b[0m \u001b[0mdraw\u001b[0m\u001b[1;33m(\u001b[0m\u001b[0martist\u001b[0m\u001b[1;33m,\u001b[0m \u001b[0mrenderer\u001b[0m\u001b[1;33m,\u001b[0m \u001b[1;33m*\u001b[0m\u001b[0margs\u001b[0m\u001b[1;33m,\u001b[0m \u001b[1;33m**\u001b[0m\u001b[0mkwargs\u001b[0m\u001b[1;33m)\u001b[0m\u001b[1;33m\u001b[0m\u001b[1;33m\u001b[0m\u001b[0m\n\u001b[0m\u001b[0;32m     39\u001b[0m         \u001b[1;32mfinally\u001b[0m\u001b[1;33m:\u001b[0m\u001b[1;33m\u001b[0m\u001b[1;33m\u001b[0m\u001b[0m\n\u001b[0;32m     40\u001b[0m             \u001b[1;32mif\u001b[0m \u001b[0martist\u001b[0m\u001b[1;33m.\u001b[0m\u001b[0mget_agg_filter\u001b[0m\u001b[1;33m(\u001b[0m\u001b[1;33m)\u001b[0m \u001b[1;32mis\u001b[0m \u001b[1;32mnot\u001b[0m \u001b[1;32mNone\u001b[0m\u001b[1;33m:\u001b[0m\u001b[1;33m\u001b[0m\u001b[1;33m\u001b[0m\u001b[0m\n",
      "\u001b[1;32m~\\anaconda3\\lib\\site-packages\\matplotlib\\axes\\_base.py\u001b[0m in \u001b[0;36mdraw\u001b[1;34m(self, renderer, inframe)\u001b[0m\n\u001b[0;32m   2628\u001b[0m             \u001b[0mrenderer\u001b[0m\u001b[1;33m.\u001b[0m\u001b[0mstop_rasterizing\u001b[0m\u001b[1;33m(\u001b[0m\u001b[1;33m)\u001b[0m\u001b[1;33m\u001b[0m\u001b[1;33m\u001b[0m\u001b[0m\n\u001b[0;32m   2629\u001b[0m \u001b[1;33m\u001b[0m\u001b[0m\n\u001b[1;32m-> 2630\u001b[1;33m         \u001b[0mmimage\u001b[0m\u001b[1;33m.\u001b[0m\u001b[0m_draw_list_compositing_images\u001b[0m\u001b[1;33m(\u001b[0m\u001b[0mrenderer\u001b[0m\u001b[1;33m,\u001b[0m \u001b[0mself\u001b[0m\u001b[1;33m,\u001b[0m \u001b[0martists\u001b[0m\u001b[1;33m)\u001b[0m\u001b[1;33m\u001b[0m\u001b[1;33m\u001b[0m\u001b[0m\n\u001b[0m\u001b[0;32m   2631\u001b[0m \u001b[1;33m\u001b[0m\u001b[0m\n\u001b[0;32m   2632\u001b[0m         \u001b[0mrenderer\u001b[0m\u001b[1;33m.\u001b[0m\u001b[0mclose_group\u001b[0m\u001b[1;33m(\u001b[0m\u001b[1;34m'axes'\u001b[0m\u001b[1;33m)\u001b[0m\u001b[1;33m\u001b[0m\u001b[1;33m\u001b[0m\u001b[0m\n",
      "\u001b[1;32m~\\anaconda3\\lib\\site-packages\\matplotlib\\image.py\u001b[0m in \u001b[0;36m_draw_list_compositing_images\u001b[1;34m(renderer, parent, artists, suppress_composite)\u001b[0m\n\u001b[0;32m    135\u001b[0m     \u001b[1;32mif\u001b[0m \u001b[0mnot_composite\u001b[0m \u001b[1;32mor\u001b[0m \u001b[1;32mnot\u001b[0m \u001b[0mhas_images\u001b[0m\u001b[1;33m:\u001b[0m\u001b[1;33m\u001b[0m\u001b[1;33m\u001b[0m\u001b[0m\n\u001b[0;32m    136\u001b[0m         \u001b[1;32mfor\u001b[0m \u001b[0ma\u001b[0m \u001b[1;32min\u001b[0m \u001b[0martists\u001b[0m\u001b[1;33m:\u001b[0m\u001b[1;33m\u001b[0m\u001b[1;33m\u001b[0m\u001b[0m\n\u001b[1;32m--> 137\u001b[1;33m             \u001b[0ma\u001b[0m\u001b[1;33m.\u001b[0m\u001b[0mdraw\u001b[0m\u001b[1;33m(\u001b[0m\u001b[0mrenderer\u001b[0m\u001b[1;33m)\u001b[0m\u001b[1;33m\u001b[0m\u001b[1;33m\u001b[0m\u001b[0m\n\u001b[0m\u001b[0;32m    138\u001b[0m     \u001b[1;32melse\u001b[0m\u001b[1;33m:\u001b[0m\u001b[1;33m\u001b[0m\u001b[1;33m\u001b[0m\u001b[0m\n\u001b[0;32m    139\u001b[0m         \u001b[1;31m# Composite any adjacent images together\u001b[0m\u001b[1;33m\u001b[0m\u001b[1;33m\u001b[0m\u001b[1;33m\u001b[0m\u001b[0m\n",
      "\u001b[1;32m~\\anaconda3\\lib\\site-packages\\matplotlib\\artist.py\u001b[0m in \u001b[0;36mdraw_wrapper\u001b[1;34m(artist, renderer, *args, **kwargs)\u001b[0m\n\u001b[0;32m     36\u001b[0m                 \u001b[0mrenderer\u001b[0m\u001b[1;33m.\u001b[0m\u001b[0mstart_filter\u001b[0m\u001b[1;33m(\u001b[0m\u001b[1;33m)\u001b[0m\u001b[1;33m\u001b[0m\u001b[1;33m\u001b[0m\u001b[0m\n\u001b[0;32m     37\u001b[0m \u001b[1;33m\u001b[0m\u001b[0m\n\u001b[1;32m---> 38\u001b[1;33m             \u001b[1;32mreturn\u001b[0m \u001b[0mdraw\u001b[0m\u001b[1;33m(\u001b[0m\u001b[0martist\u001b[0m\u001b[1;33m,\u001b[0m \u001b[0mrenderer\u001b[0m\u001b[1;33m,\u001b[0m \u001b[1;33m*\u001b[0m\u001b[0margs\u001b[0m\u001b[1;33m,\u001b[0m \u001b[1;33m**\u001b[0m\u001b[0mkwargs\u001b[0m\u001b[1;33m)\u001b[0m\u001b[1;33m\u001b[0m\u001b[1;33m\u001b[0m\u001b[0m\n\u001b[0m\u001b[0;32m     39\u001b[0m         \u001b[1;32mfinally\u001b[0m\u001b[1;33m:\u001b[0m\u001b[1;33m\u001b[0m\u001b[1;33m\u001b[0m\u001b[0m\n\u001b[0;32m     40\u001b[0m             \u001b[1;32mif\u001b[0m \u001b[0martist\u001b[0m\u001b[1;33m.\u001b[0m\u001b[0mget_agg_filter\u001b[0m\u001b[1;33m(\u001b[0m\u001b[1;33m)\u001b[0m \u001b[1;32mis\u001b[0m \u001b[1;32mnot\u001b[0m \u001b[1;32mNone\u001b[0m\u001b[1;33m:\u001b[0m\u001b[1;33m\u001b[0m\u001b[1;33m\u001b[0m\u001b[0m\n",
      "\u001b[1;32m~\\anaconda3\\lib\\site-packages\\matplotlib\\collections.py\u001b[0m in \u001b[0;36mdraw\u001b[1;34m(self, renderer)\u001b[0m\n\u001b[0;32m   2044\u001b[0m                 \u001b[0moffsets\u001b[0m \u001b[1;33m=\u001b[0m \u001b[0mnp\u001b[0m\u001b[1;33m.\u001b[0m\u001b[0mcolumn_stack\u001b[0m\u001b[1;33m(\u001b[0m\u001b[1;33m[\u001b[0m\u001b[0mxs\u001b[0m\u001b[1;33m,\u001b[0m \u001b[0mys\u001b[0m\u001b[1;33m]\u001b[0m\u001b[1;33m)\u001b[0m\u001b[1;33m\u001b[0m\u001b[1;33m\u001b[0m\u001b[0m\n\u001b[0;32m   2045\u001b[0m \u001b[1;33m\u001b[0m\u001b[0m\n\u001b[1;32m-> 2046\u001b[1;33m         \u001b[0mself\u001b[0m\u001b[1;33m.\u001b[0m\u001b[0mupdate_scalarmappable\u001b[0m\u001b[1;33m(\u001b[0m\u001b[1;33m)\u001b[0m\u001b[1;33m\u001b[0m\u001b[1;33m\u001b[0m\u001b[0m\n\u001b[0m\u001b[0;32m   2047\u001b[0m \u001b[1;33m\u001b[0m\u001b[0m\n\u001b[0;32m   2048\u001b[0m         \u001b[1;32mif\u001b[0m \u001b[1;32mnot\u001b[0m \u001b[0mtransform\u001b[0m\u001b[1;33m.\u001b[0m\u001b[0mis_affine\u001b[0m\u001b[1;33m:\u001b[0m\u001b[1;33m\u001b[0m\u001b[1;33m\u001b[0m\u001b[0m\n",
      "\u001b[1;32m~\\anaconda3\\lib\\site-packages\\matplotlib\\collections.py\u001b[0m in \u001b[0;36mupdate_scalarmappable\u001b[1;34m(self)\u001b[0m\n\u001b[0;32m    789\u001b[0m             \u001b[1;32mreturn\u001b[0m\u001b[1;33m\u001b[0m\u001b[1;33m\u001b[0m\u001b[0m\n\u001b[0;32m    790\u001b[0m         \u001b[1;32mif\u001b[0m \u001b[0mself\u001b[0m\u001b[1;33m.\u001b[0m\u001b[0m_is_filled\u001b[0m\u001b[1;33m:\u001b[0m\u001b[1;33m\u001b[0m\u001b[1;33m\u001b[0m\u001b[0m\n\u001b[1;32m--> 791\u001b[1;33m             \u001b[0mself\u001b[0m\u001b[1;33m.\u001b[0m\u001b[0m_facecolors\u001b[0m \u001b[1;33m=\u001b[0m \u001b[0mself\u001b[0m\u001b[1;33m.\u001b[0m\u001b[0mto_rgba\u001b[0m\u001b[1;33m(\u001b[0m\u001b[0mself\u001b[0m\u001b[1;33m.\u001b[0m\u001b[0m_A\u001b[0m\u001b[1;33m,\u001b[0m \u001b[0mself\u001b[0m\u001b[1;33m.\u001b[0m\u001b[0m_alpha\u001b[0m\u001b[1;33m)\u001b[0m\u001b[1;33m\u001b[0m\u001b[1;33m\u001b[0m\u001b[0m\n\u001b[0m\u001b[0;32m    792\u001b[0m         \u001b[1;32melif\u001b[0m \u001b[0mself\u001b[0m\u001b[1;33m.\u001b[0m\u001b[0m_is_stroked\u001b[0m\u001b[1;33m:\u001b[0m\u001b[1;33m\u001b[0m\u001b[1;33m\u001b[0m\u001b[0m\n\u001b[0;32m    793\u001b[0m             \u001b[0mself\u001b[0m\u001b[1;33m.\u001b[0m\u001b[0m_edgecolors\u001b[0m \u001b[1;33m=\u001b[0m \u001b[0mself\u001b[0m\u001b[1;33m.\u001b[0m\u001b[0mto_rgba\u001b[0m\u001b[1;33m(\u001b[0m\u001b[0mself\u001b[0m\u001b[1;33m.\u001b[0m\u001b[0m_A\u001b[0m\u001b[1;33m,\u001b[0m \u001b[0mself\u001b[0m\u001b[1;33m.\u001b[0m\u001b[0m_alpha\u001b[0m\u001b[1;33m)\u001b[0m\u001b[1;33m\u001b[0m\u001b[1;33m\u001b[0m\u001b[0m\n",
      "\u001b[1;32m~\\anaconda3\\lib\\site-packages\\matplotlib\\cm.py\u001b[0m in \u001b[0;36mto_rgba\u001b[1;34m(self, x, alpha, bytes, norm)\u001b[0m\n\u001b[0;32m    242\u001b[0m         \u001b[0mx\u001b[0m \u001b[1;33m=\u001b[0m \u001b[0mma\u001b[0m\u001b[1;33m.\u001b[0m\u001b[0masarray\u001b[0m\u001b[1;33m(\u001b[0m\u001b[0mx\u001b[0m\u001b[1;33m)\u001b[0m\u001b[1;33m\u001b[0m\u001b[1;33m\u001b[0m\u001b[0m\n\u001b[0;32m    243\u001b[0m         \u001b[1;32mif\u001b[0m \u001b[0mnorm\u001b[0m\u001b[1;33m:\u001b[0m\u001b[1;33m\u001b[0m\u001b[1;33m\u001b[0m\u001b[0m\n\u001b[1;32m--> 244\u001b[1;33m             \u001b[0mx\u001b[0m \u001b[1;33m=\u001b[0m \u001b[0mself\u001b[0m\u001b[1;33m.\u001b[0m\u001b[0mnorm\u001b[0m\u001b[1;33m(\u001b[0m\u001b[0mx\u001b[0m\u001b[1;33m)\u001b[0m\u001b[1;33m\u001b[0m\u001b[1;33m\u001b[0m\u001b[0m\n\u001b[0m\u001b[0;32m    245\u001b[0m         \u001b[0mrgba\u001b[0m \u001b[1;33m=\u001b[0m \u001b[0mself\u001b[0m\u001b[1;33m.\u001b[0m\u001b[0mcmap\u001b[0m\u001b[1;33m(\u001b[0m\u001b[0mx\u001b[0m\u001b[1;33m,\u001b[0m \u001b[0malpha\u001b[0m\u001b[1;33m=\u001b[0m\u001b[0malpha\u001b[0m\u001b[1;33m,\u001b[0m \u001b[0mbytes\u001b[0m\u001b[1;33m=\u001b[0m\u001b[0mbytes\u001b[0m\u001b[1;33m)\u001b[0m\u001b[1;33m\u001b[0m\u001b[1;33m\u001b[0m\u001b[0m\n\u001b[0;32m    246\u001b[0m         \u001b[1;32mreturn\u001b[0m \u001b[0mrgba\u001b[0m\u001b[1;33m\u001b[0m\u001b[1;33m\u001b[0m\u001b[0m\n",
      "\u001b[1;32m~\\anaconda3\\lib\\site-packages\\matplotlib\\colors.py\u001b[0m in \u001b[0;36m__call__\u001b[1;34m(self, value, clip)\u001b[0m\n\u001b[0;32m   1010\u001b[0m         \u001b[0mself\u001b[0m\u001b[1;33m.\u001b[0m\u001b[0mautoscale_None\u001b[0m\u001b[1;33m(\u001b[0m\u001b[0mresult\u001b[0m\u001b[1;33m)\u001b[0m\u001b[1;33m\u001b[0m\u001b[1;33m\u001b[0m\u001b[0m\n\u001b[0;32m   1011\u001b[0m         \u001b[1;31m# Convert at least to float, without losing precision.\u001b[0m\u001b[1;33m\u001b[0m\u001b[1;33m\u001b[0m\u001b[1;33m\u001b[0m\u001b[0m\n\u001b[1;32m-> 1012\u001b[1;33m         \u001b[1;33m(\u001b[0m\u001b[0mvmin\u001b[0m\u001b[1;33m,\u001b[0m\u001b[1;33m)\u001b[0m\u001b[1;33m,\u001b[0m \u001b[0m_\u001b[0m \u001b[1;33m=\u001b[0m \u001b[0mself\u001b[0m\u001b[1;33m.\u001b[0m\u001b[0mprocess_value\u001b[0m\u001b[1;33m(\u001b[0m\u001b[0mself\u001b[0m\u001b[1;33m.\u001b[0m\u001b[0mvmin\u001b[0m\u001b[1;33m)\u001b[0m\u001b[1;33m\u001b[0m\u001b[1;33m\u001b[0m\u001b[0m\n\u001b[0m\u001b[0;32m   1013\u001b[0m         \u001b[1;33m(\u001b[0m\u001b[0mvmax\u001b[0m\u001b[1;33m,\u001b[0m\u001b[1;33m)\u001b[0m\u001b[1;33m,\u001b[0m \u001b[0m_\u001b[0m \u001b[1;33m=\u001b[0m \u001b[0mself\u001b[0m\u001b[1;33m.\u001b[0m\u001b[0mprocess_value\u001b[0m\u001b[1;33m(\u001b[0m\u001b[0mself\u001b[0m\u001b[1;33m.\u001b[0m\u001b[0mvmax\u001b[0m\u001b[1;33m)\u001b[0m\u001b[1;33m\u001b[0m\u001b[1;33m\u001b[0m\u001b[0m\n\u001b[0;32m   1014\u001b[0m         \u001b[1;32mif\u001b[0m \u001b[0mvmin\u001b[0m \u001b[1;33m==\u001b[0m \u001b[0mvmax\u001b[0m\u001b[1;33m:\u001b[0m\u001b[1;33m\u001b[0m\u001b[1;33m\u001b[0m\u001b[0m\n",
      "\u001b[1;31mTypeError\u001b[0m: iteration over a 0-d array"
     ]
    },
    {
     "data": {
      "text/plain": [
       "<Figure size 432x288 with 1 Axes>"
      ]
     },
     "metadata": {
      "needs_background": "light"
     },
     "output_type": "display_data"
    }
   ],
   "source": [
    "plot_df_filtered_knn(X_train, y_train,5)"
   ]
  },
  {
   "cell_type": "code",
   "execution_count": null,
   "metadata": {},
   "outputs": [],
   "source": []
  }
 ],
 "metadata": {
  "kernelspec": {
   "display_name": "Python 3",
   "language": "python",
   "name": "python3"
  },
  "language_info": {
   "codemirror_mode": {
    "name": "ipython",
    "version": 3
   },
   "file_extension": ".py",
   "mimetype": "text/x-python",
   "name": "python",
   "nbconvert_exporter": "python",
   "pygments_lexer": "ipython3",
   "version": "3.8.3"
  }
 },
 "nbformat": 4,
 "nbformat_minor": 4
}
